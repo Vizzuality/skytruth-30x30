{
 "cells": [
  {
   "cell_type": "code",
   "execution_count": 1,
   "metadata": {},
   "outputs": [],
   "source": [
    "%load_ext autoreload\n",
    "%autoreload 2"
   ]
  },
  {
   "cell_type": "code",
   "execution_count": 2,
   "metadata": {},
   "outputs": [],
   "source": [
    "import logging\n",
    "import sys\n",
    "from pathlib import Path\n",
    "import time\n",
    "import pandas as pd\n",
    "import geopandas as gpd\n",
    "import numpy as np\n",
    "import json\n",
    "\n",
    "scripts_dir = Path(\"../..\").joinpath(\"src\")\n",
    "if scripts_dir not in sys.path:\n",
    "    sys.path.insert(0, scripts_dir.resolve().as_posix())\n",
    "\n",
    "from helpers.strapi import Strapi\n",
    "from helpers.settings import get_settings, Settings\n",
    "from helpers.file_handler import FileConventionHandler\n",
    "from helpers.utils import download_and_unzip_if_needed, writeReadGCP\n",
    "\n",
    "from pipelines.output_schemas import (\n",
    "    FPLSchema,\n",
    "    ProtectionLevelSchema,\n",
    "    MPAsSchema,\n",
    "    HabitatsSchema,\n",
    "    LocationSchema,\n",
    "    ProtectedAreaExtentSchema,\n",
    ")\n",
    "from pipelines.processors import (\n",
    "    add_envelope,\n",
    "    add_location_iso,\n",
    "    expand_multiple_locations,\n",
    "    add_region_iso,\n",
    "    calculate_eez_area,\n",
    "    add_bbox,\n",
    "    add_groups_and_members,\n",
    "    add_location_name,\n",
    "    output,\n",
    "    clean_geometries,\n",
    "    filter_by_exluding_propossed_mpas,\n",
    "    spatial_join,\n",
    "    process_mpa_data,\n",
    "    assign_iso3,\n",
    "    calculate_global_area,\n",
    "    separate_parent_iso,\n",
    "    calculate_stats_cov,\n",
    "    coverage_stats,\n",
    "    mpaatlas_filter_stablishment,\n",
    "    process_mpaatlas_data,\n",
    "    calculate_stats,\n",
    "    fix_monaco,\n",
    "    batch_export,\n",
    "    calculate_area,\n",
    "    define_is_child,\n",
    "    set_child_id,\n",
    "    add_child_parent_relationship,\n",
    "    columns_to_lower,\n",
    "    extract_wdpaid_mpaatlas,\n",
    "    simplify_async,\n",
    "    process_tpa_data,\n",
    ")\n",
    "\n",
    "logging.basicConfig(level=logging.DEBUG)\n",
    "logging.getLogger(\"requests\").setLevel(logging.WARNING)\n",
    "logging.getLogger(\"urllib3\").setLevel(logging.WARNING)\n",
    "logging.getLogger(\"fiona\").setLevel(logging.WARNING)"
   ]
  },
  {
   "cell_type": "code",
   "execution_count": 3,
   "metadata": {},
   "outputs": [],
   "source": [
    "mysettings = get_settings()\n",
    "prev_step = \"preprocess\"\n",
    "current_step = \"stats\""
   ]
  },
  {
   "cell_type": "code",
   "execution_count": 4,
   "metadata": {},
   "outputs": [
    {
     "data": {
      "text/plain": [
       "<helpers.strapi.Strapi at 0x7f913ef00680>"
      ]
     },
     "execution_count": 4,
     "metadata": {},
     "output_type": "execute_result"
    }
   ],
   "source": [
    "# Strapi setup\n",
    "strapi = Strapi(url=mysettings.STRAPI_URL)\n",
    "strapi.login(jwt=mysettings.STRAPI_JWT)"
   ]
  },
  {
   "cell_type": "code",
   "execution_count": 5,
   "metadata": {},
   "outputs": [],
   "source": [
    "# after generated the locations file for the first time:\n",
    "location_code = pd.read_csv(mysettings.DATA_DIR.joinpath(\"eez/processed/stats/locations_code.csv\"))"
   ]
  },
  {
   "cell_type": "markdown",
   "metadata": {
    "jp-MarkdownHeadingCollapsed": true
   },
   "source": [
    "### Locations (eez + regions)"
   ]
  },
  {
   "cell_type": "code",
   "execution_count": 6,
   "metadata": {},
   "outputs": [
    {
     "name": "stdout",
     "output_type": "stream",
     "text": [
      "/home/mambauser/data/eez/processed/eez_preprocess.zip\n",
      "/home/mambauser/data/eez/processed/preprocess\n"
     ]
    },
    {
     "data": {
      "text/plain": [
       "PosixPath('/home/mambauser/data/eez/processed/preprocess')"
      ]
     },
     "execution_count": 6,
     "metadata": {},
     "output_type": "execute_result"
    }
   ],
   "source": [
    "pipe = \"eez\"\n",
    "strapi_collection = \"\"\n",
    "pipe_dir = FileConventionHandler(pipe)\n",
    "\n",
    "output_file = pipe_dir.get_processed_step_path(current_step).joinpath(\"locations.json\")\n",
    "\n",
    "# Download the EEZ file && unzip it\n",
    "download_and_unzip_if_needed(pipe_dir, prev_step, mysettings)"
   ]
  },
  {
   "cell_type": "code",
   "execution_count": 13,
   "metadata": {},
   "outputs": [],
   "source": [
    "locations = (\n",
    "    gpd.read_file(pipe_dir.get_step_fmt_file_path(prev_step, \"shp\"))\n",
    "    .pipe(add_envelope)\n",
    "    .pipe(add_location_iso)\n",
    "    .pipe(expand_multiple_locations)\n",
    "    .pipe(add_region_iso,'iso')\n",
    "    .pipe(calculate_eez_area)\n",
    "    .pipe(add_bbox)\n",
    "    .pipe(add_groups_and_members)\n",
    "    .pipe(add_location_name)\n",
    "    .rename(\n",
    "        columns={\n",
    "            \"iso\": \"code\",\n",
    "            \"AREA_KM2\": \"totalMarineArea\",\n",
    "            \"location_type\": \"type\",\n",
    "        }\n",
    "    )\n",
    ")\n",
    "\n",
    "locations.drop(\n",
    "    columns=list(\n",
    "        set(locations.columns) - \n",
    "        set([\"code\", \"name\", \"totalMarineArea\", \"type\", \"groups\", \"bounds\", \"id\"])),\n",
    "    inplace=True,\n",
    ")\n",
    "\n",
    "output_locations = {\n",
    "    \"version\": 2,\n",
    "    \"data\": {\n",
    "        \"api::location.location\": LocationSchema(pd.DataFrame(locations)).to_dict(\n",
    "            orient=\"index\"\n",
    "        )\n",
    "    },\n",
    "}\n",
    "with open(output_file, \"w\") as f:\n",
    "    json.dump(output_locations, f)\n",
    "\n",
    "del output_locations"
   ]
  },
  {
   "cell_type": "code",
   "execution_count": 8,
   "metadata": {},
   "outputs": [],
   "source": [
    "##\n",
    "(locations[['id', 'code']]\n",
    " .to_csv(pipe_dir.get_processed_step_path(current_step)\n",
    "     .joinpath('locations_code.csv'), index=False))\n",
    "\n",
    "del locations"
   ]
  },
  {
   "cell_type": "code",
   "execution_count": null,
   "metadata": {},
   "outputs": [],
   "source": [
    "strapi.deleteCollectionData(strapi_collection, list(range(1, 300)))"
   ]
  },
  {
   "cell_type": "code",
   "execution_count": null,
   "metadata": {},
   "outputs": [],
   "source": [
    "strapi.importCollectionData(\n",
    "    strapi_collection,\n",
    "    output_file,\n",
    ")"
   ]
  },
  {
   "cell_type": "markdown",
   "metadata": {
    "jp-MarkdownHeadingCollapsed": true
   },
   "source": [
    "### Habitats"
   ]
  },
  {
   "cell_type": "markdown",
   "metadata": {},
   "source": [
    "The habitat data came from:\n"
   ]
  },
  {
   "cell_type": "code",
   "execution_count": 12,
   "metadata": {},
   "outputs": [],
   "source": [
    "pipe = \"habitats\"\n",
    "strapi_collection = ''\n",
    "pipe_dir = FileConventionHandler(pipe)\n",
    "output_file = pipe_dir.get_step_fmt_file_path(current_step, \"csv\")\n",
    "\n",
    "# Download the habitat file\n",
    "# download_and_unzip_if_needed(pipe_dir, prev_step, mysettings)\n",
    "\n",
    "habitats_intermediate = pd.read_csv(\n",
    "    pipe_dir.processed_path.joinpath(\"habitats5.csv\"), keep_default_na=False\n",
    ")"
   ]
  },
  {
   "cell_type": "code",
   "execution_count": 13,
   "metadata": {},
   "outputs": [
    {
     "name": "stderr",
     "output_type": "stream",
     "text": [
      "/home/mambauser/src/pipelines/processors.py:685: FutureWarning: Downcasting behavior in `replace` is deprecated and will be removed in a future version. To retain the old behavior, explicitly call `result.infer_objects(copy=False)`. To opt-in to the future behavior, set `pd.set_option('future.no_silent_downcasting', True)`\n",
      "  df.replace(rep_d)\n"
     ]
    }
   ],
   "source": [
    "habitat_stats = habitats_intermediate.pipe(\n",
    "    output,\n",
    "    iso_column=\"location_id\",\n",
    "    rep_d={\n",
    "        \"habitat_name\": {\n",
    "            \"saltmarshes\": 1,\n",
    "            \"seagrasses\": 2,\n",
    "            \"warm-water corals\": 3,\n",
    "            \"cold-water corals\": 4,\n",
    "            \"mangroves\": 5,\n",
    "            \"seamounts\": 6,\n",
    "        },\n",
    "        \"protected_area\": {\"\": 0},\n",
    "    },\n",
    "    rename={\n",
    "        \"protected_area\": \"protectedArea\",\n",
    "        \"total_area\": \"totalArea\",\n",
    "        \"habitat_name\": \"habitat\",\n",
    "    },\n",
    "    drop_cols=[\"location_id\"],\n",
    ")\n",
    "HabitatsSchema(habitat_stats).to_csv(\n",
    "    output_file.as_posix(), index=True\n",
    ")"
   ]
  },
  {
   "cell_type": "code",
   "execution_count": null,
   "metadata": {},
   "outputs": [],
   "source": [
    "strapi.deleteCollectionData(strapi_collection, list(range(1, 300)))"
   ]
  },
  {
   "cell_type": "code",
   "execution_count": null,
   "metadata": {},
   "outputs": [],
   "source": [
    "strapi.importCollectionData(\n",
    "    strapi_collection,\n",
    "    output_file,\n",
    ")"
   ]
  },
  {
   "cell_type": "markdown",
   "metadata": {
    "jp-MarkdownHeadingCollapsed": true
   },
   "source": [
    "### Coverage stats - Mpas"
   ]
  },
  {
   "cell_type": "markdown",
   "metadata": {},
   "source": [
    "We are going to use the intermediate data from eez, in order to create a dataset that can be used as a land mask.\n",
    "The steps are:\n",
    "1. Load eez\n",
    "2. Spatial inner Join the eez dataset with the Mpas one\n",
    "3. Assign the location iso\n",
    "4. dissolve by location iso and cummulative year\n",
    "5. calculate the area for global regions and eez countries\n",
    "6. prepare the data to be ingested in strapi\n",
    "7. upload the data to strapi"
   ]
  },
  {
   "cell_type": "code",
   "execution_count": 7,
   "metadata": {},
   "outputs": [
    {
     "name": "stdout",
     "output_type": "stream",
     "text": [
      "/home/mambauser/data/eez/processed/eez_preprocess.zip\n",
      "/home/mambauser/data/eez/processed/preprocess\n",
      "/home/mambauser/data/mpa/processed/mpa_preprocess.zip\n",
      "/home/mambauser/data/mpa/processed/preprocess\n"
     ]
    }
   ],
   "source": [
    "pipe = \"mpa\"\n",
    "strapi_collection = \"\"\n",
    "\n",
    "pipe_dir_eez = FileConventionHandler(\"eez\")\n",
    "pipe_dir_mpas = FileConventionHandler(pipe)\n",
    "output_file = pipe_dir_mpas.get_processed_step_path(current_step).joinpath(\n",
    "    \"mpa_landmask_strapi.csv\"\n",
    ")\n",
    "\n",
    "# Download the EEZ file && unzip it\n",
    "download_and_unzip_if_needed(pipe_dir_eez, prev_step, mysettings)\n",
    "# Download the mpas file && unzip it\n",
    "download_and_unzip_if_needed(pipe_dir_mpas, prev_step, mysettings)\n",
    "\n",
    "# Load the data\n",
    "eez = gpd.read_file(pipe_dir_eez.get_step_fmt_file_path(prev_step, \"shp\")).pipe(clean_geometries)\n",
    "mpas = gpd.read_file(pipe_dir_mpas.get_step_fmt_file_path(prev_step, \"shp\")).pipe(clean_geometries)"
   ]
  },
  {
   "cell_type": "code",
   "execution_count": 8,
   "metadata": {},
   "outputs": [
    {
     "name": "stderr",
     "output_type": "stream",
     "text": [
      "100%|██████████| 282/282 [07:28<00:00,  1.59s/it]"
     ]
    },
    {
     "name": "stdout",
     "output_type": "stream",
     "text": [
      "<class 'shapely.geometry.base.GeometrySequence'>\n",
      "<class 'shapely.geometry.base.GeometrySequence'>\n"
     ]
    },
    {
     "name": "stderr",
     "output_type": "stream",
     "text": [
      "\n"
     ]
    }
   ],
   "source": [
    "eez_mpas_data_join = await spatial_join(eez, mpas.pipe(filter_by_exluding_propossed_mpas))"
   ]
  },
  {
   "cell_type": "code",
   "execution_count": 9,
   "metadata": {},
   "outputs": [
    {
     "name": "stderr",
     "output_type": "stream",
     "text": [
      "INFO:pyogrio._io:Created 17,697 records\n"
     ]
    }
   ],
   "source": [
    "# To get an idea of the spatial join results\n",
    "eez_mpas_data_join.pipe(add_location_iso).pipe(assign_iso3).to_file(\n",
    "    pipe_dir_mpas.get_processed_step_path(current_step).joinpath(\"mpas_sjoin.shp\"), driver=\"ESRI Shapefile\"\n",
    ")"
   ]
  },
  {
   "cell_type": "code",
   "execution_count": 10,
   "metadata": {},
   "outputs": [
    {
     "name": "stderr",
     "output_type": "stream",
     "text": [
      "100%|██████████| 14/14 [03:59<00:00, 17.14s/it]\n"
     ]
    },
    {
     "name": "stderr",
     "output_type": "stream",
     "text": [
      "100%|█████████▉| 281/282 [00:19<00:02,  2.21s/it]"
     ]
    }
   ],
   "source": [
    "final_data = await process_mpa_data(\n",
    "    eez_mpas_data_join.pipe(add_location_iso).pipe(assign_iso3),\n",
    "    range(2011, time.localtime().tm_year + 1),\n",
    "    [\"PA_DEF\", \"iso_3\"],\n",
    "    {\"protectedAreasCount\": \"sum\"},\n",
    ")"
   ]
  },
  {
   "cell_type": "code",
   "execution_count": 11,
   "metadata": {},
   "outputs": [],
   "source": [
    "coverage = (\n",
    "    final_data.pipe(calculate_global_area, [\"year\", \"PA_DEF\"], {\"area\": \"sum\"}, \"iso_3\")\n",
    "    .pipe(separate_parent_iso, \"iso_3\")\n",
    "    .pipe(add_region_iso, \"iso_3\")\n",
    "    .replace(\n",
    "        {\n",
    "            \"iso_3\": {\n",
    "                \"ATA\": \"ABNJ\",\n",
    "                \"COK\": \"NZL\",\n",
    "                \"IOT\": \"GBR\",\n",
    "                \"NIU\": \"NZL\",\n",
    "                \"SHN\": \"GBR\",\n",
    "                \"SJM\": \"NOR\",\n",
    "                \"UMI\": \"USA\",\n",
    "                \"NCL\": \"FRA\",\n",
    "                \"GIB\": \"GBR\",\n",
    "            }\n",
    "        }\n",
    "    )\n",
    "    .pipe(calculate_stats_cov, [\"year\", \"PA_DEF\"], \"iso_3\")\n",
    "    .pipe(coverage_stats)\n",
    ")\n",
    "\n",
    "ProtectedAreaExtentSchema(\n",
    "    coverage.pipe(\n",
    "        output,\n",
    "        \"iso_3\",\n",
    "        {\"PA_DEF\": {\"0\": 2, \"1\": 1}},\n",
    "        {\"PARENT_NAME\": \"location\", \"PA_DEF\": \"protection_status\"},\n",
    "        [\"area\", \"iso_3\"],\n",
    "    )\n",
    ").to_csv(\n",
    "    output_file,\n",
    "    index=True,\n",
    ")"
   ]
  },
  {
   "cell_type": "code",
   "execution_count": 6,
   "metadata": {},
   "outputs": [],
   "source": [
    "strapi_collection = \"protection-coverage-stat\""
   ]
  },
  {
   "cell_type": "code",
   "execution_count": 8,
   "metadata": {},
   "outputs": [
    {
     "data": {
      "text/plain": [
       "<helpers.strapi.Strapi at 0x7fda8ddb8860>"
      ]
     },
     "execution_count": 8,
     "metadata": {},
     "output_type": "execute_result"
    }
   ],
   "source": [
    "strapi.deleteCollectionData(strapi_collection, list(range(1, 2300)))"
   ]
  },
  {
   "cell_type": "code",
   "execution_count": null,
   "metadata": {},
   "outputs": [],
   "source": [
    "strapi.importCollectionData(\n",
    "    strapi_collection,\n",
    "    output_file,\n",
    ")"
   ]
  },
  {
   "cell_type": "markdown",
   "metadata": {
    "jp-MarkdownHeadingCollapsed": true
   },
   "source": [
    "### Mpa atlas - country stats Fully or highly protected"
   ]
  },
  {
   "cell_type": "markdown",
   "metadata": {},
   "source": [
    "We are going to use the intermediate data from eez, in order to create a dataset that can be used as a land mask.\n",
    "The steps are:\n",
    "1. Load eez\n",
    "2. Spatial inner Join the eez dataset with the Mpaatlas one\n",
    "3. iso assign using the sovereign one provided by mpaatlas\n",
    "4. dissolve by location\n",
    "5. calculate the area for global regions and eez countries ussing mollwide projection\n",
    "6. prepare the data to be ingested in strapi\n",
    "7. upload the data to strapi"
   ]
  },
  {
   "cell_type": "code",
   "execution_count": 12,
   "metadata": {},
   "outputs": [
    {
     "name": "stdout",
     "output_type": "stream",
     "text": [
      "/home/mambauser/data/eez/processed/eez_preprocess.zip\n",
      "/home/mambauser/data/eez/processed/preprocess\n",
      "/home/mambauser/data/mpaatlas/processed/mpaatlas_preprocess.zip\n",
      "/home/mambauser/data/mpaatlas/processed/preprocess\n"
     ]
    }
   ],
   "source": [
    "pipe = \"mpaatlas\"\n",
    "strapi_collection = \"mpaa-protection-level-stat\"\n",
    "\n",
    "pipe_dir_eez = FileConventionHandler(\"eez\")\n",
    "pipe_dir_mpaatlas = FileConventionHandler(pipe)\n",
    "output_file = pipe_dir_mpaatlas.get_processed_step_path(current_step).joinpath(\n",
    "    \"mpaatlas_protection_level.csv\"\n",
    ")\n",
    "\n",
    "# Download the EEZ file && unzip it\n",
    "download_and_unzip_if_needed(pipe_dir_eez, prev_step, mysettings)\n",
    "# Download the mpas file && unzip it\n",
    "download_and_unzip_if_needed(pipe_dir_mpaatlas, prev_step, mysettings)\n",
    "\n",
    "# Load the data\n",
    "eez = gpd.read_file(pipe_dir_eez.get_step_fmt_file_path(prev_step, \"shp\")).pipe(clean_geometries)\n",
    "mpaatlas_intermediate = gpd.read_file(\n",
    "    pipe_dir_mpaatlas.get_step_fmt_file_path(prev_step, \"shp\")\n",
    ").pipe(clean_geometries)"
   ]
  },
  {
   "cell_type": "code",
   "execution_count": 13,
   "metadata": {},
   "outputs": [
    {
     "name": "stderr",
     "output_type": "stream",
     "text": [
      "  0%|          | 0/282 [00:00<?, ?it/s]"
     ]
    },
    {
     "name": "stdout",
     "output_type": "stream",
     "text": [
      "<class 'shapely.geometry.base.GeometrySequence'>\n"
     ]
    },
    {
     "name": "stderr",
     "output_type": "stream",
     "text": [
      "100%|██████████| 282/282 [00:26<00:00,  3.35s/it]"
     ]
    },
    {
     "name": "stderr",
     "output_type": "stream",
     "text": [
      "100%|██████████| 282/282 [00:26<00:00, 10.47it/s]\n"
     ]
    },
    {
     "name": "stdout",
     "output_type": "stream",
     "text": [
      "<class 'shapely.geometry.base.GeometrySequence'>\n"
     ]
    }
   ],
   "source": [
    "eez_mpaatlas_data_join = await spatial_join(\n",
    "    eez, mpaatlas_intermediate.pipe(mpaatlas_filter_stablishment)\n",
    ")"
   ]
  },
  {
   "cell_type": "code",
   "execution_count": 40,
   "metadata": {},
   "outputs": [],
   "source": [
    "# To get an idea of the spatial join results\n",
    "# eez_mpaatlas_data_join.to_file(\n",
    "#     pipe_dir_mpaatlas.get_processed_step_path(current_step).joinpath(\"mpaatlas_sjoin.shp\"),\n",
    "#     driver=\"ESRI Shapefile\",\n",
    "# )"
   ]
  },
  {
   "cell_type": "code",
   "execution_count": 14,
   "metadata": {},
   "outputs": [
    {
     "name": "stderr",
     "output_type": "stream",
     "text": [
      "INFO:pyogrio._io:Created 54 records\n"
     ]
    }
   ],
   "source": [
    "eez_mpaatlas_data_join.dissolve(by=[\"protecti_1\", \"location_i\"], aggfunc={\"name\": \"count\"}).reset_index().to_file(\n",
    "pipe_dir_mpaatlas.get_processed_step_path(current_step).joinpath(\"mpaatlas_sjoin_dissolved.shp\"),\n",
    "driver=\"ESRI Shapefile\",\n",
    ")"
   ]
  },
  {
   "cell_type": "code",
   "execution_count": 15,
   "metadata": {},
   "outputs": [],
   "source": [
    "result = (\n",
    "    eez_mpaatlas_data_join.pipe(process_mpaatlas_data)\n",
    "    .pipe(calculate_global_area, gby_col=[\"protecti_1\"], iso_column=\"location_i\")\n",
    "    .pipe(separate_parent_iso)\n",
    "    .replace(\n",
    "        {\n",
    "            \"location_i\": {\n",
    "                \"COK\": \"NZL\",\n",
    "                \"IOT\": \"GBR\",\n",
    "                \"NIU\": \"NZL\",\n",
    "                \"SHN\": \"GBR\",\n",
    "                \"SJM\": \"NOR\",\n",
    "                \"UMI\": \"USA\",\n",
    "                \"NCL\": \"FRA\",\n",
    "            }\n",
    "        }\n",
    "    )\n",
    "    .pipe(add_region_iso, iso_column=\"location_i\")\n",
    "    .pipe(calculate_stats, gby_col=[\"protecti_1\"], iso_column=\"location_i\")\n",
    "    .pipe(fix_monaco, iso_column=\"location_i\", area_column=\"area_km2\")\n",
    "    .pipe(\n",
    "        output,\n",
    "        iso_column=\"location_i\",\n",
    "        rep_d={\n",
    "            \"protecti_1\": {\n",
    "                \"fully or highly protected\": 1,\n",
    "                \"less protected or unknown\": 2,\n",
    "            }\n",
    "        },\n",
    "        rename={\"protecti_1\": \"mpaa_protection_level\", \"area_km2\": \"area\"},\n",
    "        drop_cols=[],\n",
    "    )\n",
    ")\n",
    "\n",
    "ProtectionLevelSchema(result[~result.location.isna()].assign(year=2023)).to_csv(\n",
    "    output_file, index=True\n",
    ")"
   ]
  },
  {
   "cell_type": "code",
   "execution_count": 10,
   "metadata": {},
   "outputs": [],
   "source": [
    "strapi_collection = \"mpaa-protection-level-stat\""
   ]
  },
  {
   "cell_type": "code",
   "execution_count": 11,
   "metadata": {},
   "outputs": [
    {
     "data": {
      "text/plain": [
       "<helpers.strapi.Strapi at 0x7fda8ddb8860>"
      ]
     },
     "execution_count": 11,
     "metadata": {},
     "output_type": "execute_result"
    }
   ],
   "source": [
    "strapi.deleteCollectionData(strapi_collection, list(range(1, 300)))"
   ]
  },
  {
   "cell_type": "code",
   "execution_count": null,
   "metadata": {},
   "outputs": [],
   "source": [
    "strapi.importCollectionData(\n",
    "    strapi_collection,\n",
    "    output_file,\n",
    ")"
   ]
  },
  {
   "cell_type": "markdown",
   "metadata": {
    "jp-MarkdownHeadingCollapsed": true
   },
   "source": [
    "### Protected seas  - fishing protection level"
   ]
  },
  {
   "cell_type": "markdown",
   "metadata": {},
   "source": []
  },
  {
   "cell_type": "code",
   "execution_count": 6,
   "metadata": {},
   "outputs": [
    {
     "name": "stderr",
     "output_type": "stream",
     "text": [
      "DEBUG:google.auth.transport.requests:Making request: POST https://oauth2.googleapis.com/token\n"
     ]
    }
   ],
   "source": [
    "pipe = \"protectedseas\"\n",
    "strapi_collection = \"fishing-protection-level-stat\"\n",
    "\n",
    "pipe_dir = FileConventionHandler(pipe)\n",
    "input_file = pipe_dir.get_processed_step_path(prev_step).joinpath(\"protectedseas_stats.xlsx\")\n",
    "output_file = pipe_dir.get_processed_step_path(current_step).joinpath(\"lfp.csv\")\n",
    "\n",
    "# Download the protected seas file && unzip it\n",
    "writeReadGCP(\n",
    "    credentials=mysettings.GCS_KEYFILE_JSON,\n",
    "    bucket_name=mysettings.GCS_BUCKET,\n",
    "    blob_name=\"vizzuality_processed_data/protectedseas/preprocess/protectedseas_stats.xlsx\",\n",
    "    file=input_file,\n",
    "    operation=\"r\",\n",
    ")\n",
    "\n",
    "# Load the data\n",
    "protectedseas_intermediate = pd.read_excel(input_file)"
   ]
  },
  {
   "cell_type": "code",
   "execution_count": 52,
   "metadata": {},
   "outputs": [
    {
     "name": "stderr",
     "output_type": "stream",
     "text": [
      "/tmp/ipykernel_49/4089503573.py:1: UserWarning: Boolean Series key will be reindexed to match DataFrame index.\n",
      "  protectedseas_intermediate[\n"
     ]
    },
    {
     "data": {
      "text/html": [
       "<div>\n",
       "<style scoped>\n",
       "    .dataframe tbody tr th:only-of-type {\n",
       "        vertical-align: middle;\n",
       "    }\n",
       "\n",
       "    .dataframe tbody tr th {\n",
       "        vertical-align: top;\n",
       "    }\n",
       "\n",
       "    .dataframe thead th {\n",
       "        text-align: right;\n",
       "    }\n",
       "</style>\n",
       "<table border=\"1\" class=\"dataframe\">\n",
       "  <thead>\n",
       "    <tr style=\"text-align: right;\">\n",
       "      <th></th>\n",
       "      <th>iso_ter</th>\n",
       "      <th>iso_sov</th>\n",
       "      <th>includes_multi_jurisdictional_areas</th>\n",
       "      <th>lfp</th>\n",
       "      <th>area_sqkm</th>\n",
       "      <th>total_area</th>\n",
       "      <th>pct_total</th>\n",
       "    </tr>\n",
       "  </thead>\n",
       "  <tbody>\n",
       "    <tr>\n",
       "      <th>320</th>\n",
       "      <td>NaN</td>\n",
       "      <td>ESP</td>\n",
       "      <td>True</td>\n",
       "      <td>5</td>\n",
       "      <td>142.973010</td>\n",
       "      <td>1011023.776</td>\n",
       "      <td>0.014141</td>\n",
       "    </tr>\n",
       "    <tr>\n",
       "      <th>321</th>\n",
       "      <td>NaN</td>\n",
       "      <td>ESP</td>\n",
       "      <td>True</td>\n",
       "      <td>4</td>\n",
       "      <td>1639.682076</td>\n",
       "      <td>1011023.776</td>\n",
       "      <td>0.162180</td>\n",
       "    </tr>\n",
       "    <tr>\n",
       "      <th>322</th>\n",
       "      <td>NaN</td>\n",
       "      <td>ESP</td>\n",
       "      <td>True</td>\n",
       "      <td>3</td>\n",
       "      <td>214532.849800</td>\n",
       "      <td>1011023.776</td>\n",
       "      <td>21.219367</td>\n",
       "    </tr>\n",
       "    <tr>\n",
       "      <th>323</th>\n",
       "      <td>NaN</td>\n",
       "      <td>ESP</td>\n",
       "      <td>True</td>\n",
       "      <td>2</td>\n",
       "      <td>15064.132770</td>\n",
       "      <td>1011023.776</td>\n",
       "      <td>1.489988</td>\n",
       "    </tr>\n",
       "    <tr>\n",
       "      <th>324</th>\n",
       "      <td>NaN</td>\n",
       "      <td>ESP</td>\n",
       "      <td>True</td>\n",
       "      <td>1</td>\n",
       "      <td>779644.138800</td>\n",
       "      <td>1011023.776</td>\n",
       "      <td>77.114323</td>\n",
       "    </tr>\n",
       "  </tbody>\n",
       "</table>\n",
       "</div>"
      ],
      "text/plain": [
       "    iso_ter iso_sov  includes_multi_jurisdictional_areas  lfp      area_sqkm  \\\n",
       "320     NaN     ESP                                 True    5     142.973010   \n",
       "321     NaN     ESP                                 True    4    1639.682076   \n",
       "322     NaN     ESP                                 True    3  214532.849800   \n",
       "323     NaN     ESP                                 True    2   15064.132770   \n",
       "324     NaN     ESP                                 True    1  779644.138800   \n",
       "\n",
       "      total_area  pct_total  \n",
       "320  1011023.776   0.014141  \n",
       "321  1011023.776   0.162180  \n",
       "322  1011023.776  21.219367  \n",
       "323  1011023.776   1.489988  \n",
       "324  1011023.776  77.114323  "
      ]
     },
     "execution_count": 52,
     "metadata": {},
     "output_type": "execute_result"
    }
   ],
   "source": [
    "protectedseas_intermediate[\n",
    "    (\n",
    "        protectedseas_intermediate.iso_ter.isna()\n",
    "        & protectedseas_intermediate.includes_multi_jurisdictional_areas.eq(True)\n",
    "    )\n",
    "    | (\n",
    "        protectedseas_intermediate.iso_ter.isna()\n",
    "        & protectedseas_intermediate.includes_multi_jurisdictional_areas.eq(False)\n",
    "        & ~protectedseas_intermediate.iso_sov.isin(\n",
    "            protectedseas_intermediate[\n",
    "                protectedseas_intermediate.includes_multi_jurisdictional_areas.eq(True)\n",
    "            ].iso_sov.unique()\n",
    "        )\n",
    "    )\n",
    "][protectedseas_intermediate.iso_sov.eq(\"ESP\")]"
   ]
  },
  {
   "cell_type": "code",
   "execution_count": 54,
   "metadata": {},
   "outputs": [
    {
     "name": "stderr",
     "output_type": "stream",
     "text": [
      "/home/mambauser/src/pipelines/processors.py:685: FutureWarning: Downcasting behavior in `replace` is deprecated and will be removed in a future version. To retain the old behavior, explicitly call `result.infer_objects(copy=False)`. To opt-in to the future behavior, set `pd.set_option('future.no_silent_downcasting', True)`\n",
      "  df.replace(rep_d)\n"
     ]
    }
   ],
   "source": [
    "final = (\n",
    "    protectedseas_intermediate[\n",
    "        (\n",
    "            protectedseas_intermediate.iso_ter.isna()\n",
    "            & protectedseas_intermediate.includes_multi_jurisdictional_areas.eq(True)\n",
    "        )\n",
    "        | (\n",
    "            protectedseas_intermediate.iso_ter.isna()\n",
    "            & protectedseas_intermediate.includes_multi_jurisdictional_areas.eq(False)\n",
    "            & ~protectedseas_intermediate.iso_sov.isin(\n",
    "                protectedseas_intermediate[\n",
    "                    protectedseas_intermediate.includes_multi_jurisdictional_areas.eq(True)\n",
    "                ].iso_sov.unique()\n",
    "            )\n",
    "        )\n",
    "    ].replace(\n",
    "        {\n",
    "            \"lfp\": {\n",
    "                5: \"highly\",\n",
    "                4: \"highly\",\n",
    "                3: \"moderately\",\n",
    "                2: \"less\",\n",
    "                1: \"less\",\n",
    "            },\n",
    "        }\n",
    "    ).groupby([\"iso_sov\", \"lfp\"]).agg({\"area_sqkm\": \"sum\", \"total_area\": \"max\"}).reset_index()\n",
    "    .pipe(\n",
    "        calculate_global_area,\n",
    "        gby_col=[\"lfp\"],\n",
    "        iso_column=\"iso_sov\",\n",
    "        agg_ops={\"area_sqkm\": \"sum\", \"total_area\": \"sum\"},\n",
    "    )\n",
    "    .pipe(add_region_iso, iso_column=\"iso_sov\")\n",
    "    .pipe(\n",
    "        calculate_stats,\n",
    "        gby_col=[\"lfp\"],\n",
    "        ops={\"area_sqkm\": \"sum\", \"total_area\": \"sum\"},\n",
    "        iso_column=\"iso_sov\",\n",
    "    )\n",
    "    .pipe(lambda x: x.assign(pct=round((x.area_sqkm / x.total_area)*100, 2)))\n",
    "    .pipe(\n",
    "        output,\n",
    "        iso_column=\"iso_sov\",\n",
    "        rep_d={\n",
    "            \"lfp\": {\n",
    "                \"highly\": 1,\n",
    "                \"moderately\": 2,\n",
    "                \"less\": 3,\n",
    "            }\n",
    "        },\n",
    "        rename={\"lfp\": \"fishing_protection_level\", \"area_sqkm\": \"area\"},\n",
    "        drop_cols=[\"iso_sov\", \"total_area\"],\n",
    "    )\n",
    ")\n",
    "FPLSchema(final[final.location.notna()]).to_csv(output_file, index=True)"
   ]
  },
  {
   "cell_type": "code",
   "execution_count": 55,
   "metadata": {},
   "outputs": [
    {
     "data": {
      "text/plain": [
       "<helpers.strapi.Strapi at 0x7f2ecc13ba10>"
      ]
     },
     "execution_count": 55,
     "metadata": {},
     "output_type": "execute_result"
    }
   ],
   "source": [
    "strapi.deleteCollectionData(strapi_collection, list(range(1, 500)))"
   ]
  },
  {
   "cell_type": "code",
   "execution_count": 56,
   "metadata": {},
   "outputs": [
    {
     "ename": "HTTPError",
     "evalue": "401 Client Error: Unauthorized for url: https://30x30-dev.skytruth.org/cms/api/import-export-entries/content/import",
     "output_type": "error",
     "traceback": [
      "\u001b[0;31m---------------------------------------------------------------------------\u001b[0m",
      "\u001b[0;31mHTTPError\u001b[0m                                 Traceback (most recent call last)",
      "Cell \u001b[0;32mIn[56], line 1\u001b[0m\n\u001b[0;32m----> 1\u001b[0m \u001b[43mstrapi\u001b[49m\u001b[38;5;241;43m.\u001b[39;49m\u001b[43mimportCollectionData\u001b[49m\u001b[43m(\u001b[49m\n\u001b[1;32m      2\u001b[0m \u001b[43m    \u001b[49m\u001b[43mstrapi_collection\u001b[49m\u001b[43m,\u001b[49m\n\u001b[1;32m      3\u001b[0m \u001b[43m    \u001b[49m\u001b[43moutput_file\u001b[49m\u001b[43m,\u001b[49m\n\u001b[1;32m      4\u001b[0m \u001b[43m)\u001b[49m\n",
      "File \u001b[0;32m~/src/helpers/strapi.py:101\u001b[0m, in \u001b[0;36mStrapi.importCollectionData\u001b[0;34m(self, collectionApiID, file_path, idField)\u001b[0m\n\u001b[1;32m     90\u001b[0m     data \u001b[38;5;241m=\u001b[39m f\u001b[38;5;241m.\u001b[39mread()\n\u001b[1;32m     92\u001b[0m response \u001b[38;5;241m=\u001b[39m \u001b[38;5;28mself\u001b[39m\u001b[38;5;241m.\u001b[39msession\u001b[38;5;241m.\u001b[39mpost(\n\u001b[1;32m     93\u001b[0m     \u001b[38;5;124mf\u001b[39m\u001b[38;5;124m\"\u001b[39m\u001b[38;5;132;01m{\u001b[39;00m\u001b[38;5;28mself\u001b[39m\u001b[38;5;241m.\u001b[39murl\u001b[38;5;132;01m}\u001b[39;00m\u001b[38;5;124m/api/import-export-entries/content/import\u001b[39m\u001b[38;5;124m\"\u001b[39m,\n\u001b[1;32m     94\u001b[0m     json\u001b[38;5;241m=\u001b[39m{\n\u001b[0;32m   (...)\u001b[0m\n\u001b[1;32m     99\u001b[0m     },\n\u001b[1;32m    100\u001b[0m )\n\u001b[0;32m--> 101\u001b[0m \u001b[43mresponse\u001b[49m\u001b[38;5;241;43m.\u001b[39;49m\u001b[43mraise_for_status\u001b[49m\u001b[43m(\u001b[49m\u001b[43m)\u001b[49m\n\u001b[1;32m    102\u001b[0m \u001b[38;5;28;01mreturn\u001b[39;00m \u001b[38;5;28mself\u001b[39m\n",
      "File \u001b[0;32m/opt/conda/lib/python3.12/site-packages/requests/models.py:1024\u001b[0m, in \u001b[0;36mResponse.raise_for_status\u001b[0;34m(self)\u001b[0m\n\u001b[1;32m   1019\u001b[0m     http_error_msg \u001b[38;5;241m=\u001b[39m (\n\u001b[1;32m   1020\u001b[0m         \u001b[38;5;124mf\u001b[39m\u001b[38;5;124m\"\u001b[39m\u001b[38;5;132;01m{\u001b[39;00m\u001b[38;5;28mself\u001b[39m\u001b[38;5;241m.\u001b[39mstatus_code\u001b[38;5;132;01m}\u001b[39;00m\u001b[38;5;124m Server Error: \u001b[39m\u001b[38;5;132;01m{\u001b[39;00mreason\u001b[38;5;132;01m}\u001b[39;00m\u001b[38;5;124m for url: \u001b[39m\u001b[38;5;132;01m{\u001b[39;00m\u001b[38;5;28mself\u001b[39m\u001b[38;5;241m.\u001b[39murl\u001b[38;5;132;01m}\u001b[39;00m\u001b[38;5;124m\"\u001b[39m\n\u001b[1;32m   1021\u001b[0m     )\n\u001b[1;32m   1023\u001b[0m \u001b[38;5;28;01mif\u001b[39;00m http_error_msg:\n\u001b[0;32m-> 1024\u001b[0m     \u001b[38;5;28;01mraise\u001b[39;00m HTTPError(http_error_msg, response\u001b[38;5;241m=\u001b[39m\u001b[38;5;28mself\u001b[39m)\n",
      "\u001b[0;31mHTTPError\u001b[0m: 401 Client Error: Unauthorized for url: https://30x30-dev.skytruth.org/cms/api/import-export-entries/content/import"
     ]
    }
   ],
   "source": [
    "strapi.importCollectionData(\n",
    "    strapi_collection,\n",
    "    output_file,\n",
    ")"
   ]
  },
  {
   "cell_type": "markdown",
   "metadata": {},
   "source": [
    "### Country mpas detail table data"
   ]
  },
  {
   "cell_type": "markdown",
   "metadata": {},
   "source": [
    "  1- lower case the columns   \n",
    "2- separate location that its regime is in dispute or on join regime  \n",
    "3- calcualte area for mpaatlas data  \n",
    "4- rename columns for merge  \n",
    "5- merge maaatlas and mpa data identifying the source  \n",
    "6- identify child resources and set them as childs  \n",
    "7- calculate bbox  \n",
    "8- set child resources  \n",
    "9- prepare output for batch export  \n",
    "10- upload data to strapi  "
   ]
  },
  {
   "cell_type": "code",
   "execution_count": 6,
   "metadata": {},
   "outputs": [
    {
     "name": "stdout",
     "output_type": "stream",
     "text": [
      "/home/mambauser/data/mpa/processed/mpa_preprocess.zip\n",
      "/home/mambauser/data/mpa/processed/preprocess\n",
      "/home/mambauser/data/mpaatlas/processed/mpaatlas_preprocess.zip\n",
      "/home/mambauser/data/mpaatlas/processed/preprocess\n"
     ]
    },
    {
     "data": {
      "text/plain": [
       "PosixPath('/home/mambauser/data/mpaatlas/processed/preprocess')"
      ]
     },
     "execution_count": 6,
     "metadata": {},
     "output_type": "execute_result"
    }
   ],
   "source": [
    "pipe = \"mpa\"\n",
    "strapi_collection_mpas = \"mpa\"\n",
    "\n",
    "pipe_dir = FileConventionHandler(pipe)\n",
    "pipe_dir_mpaatlas = FileConventionHandler(\"mpaatlas\")\n",
    "output_file_mpas = pipe_dir.get_processed_step_path(current_step).joinpath(\"mpa_detail.csv\")\n",
    "\n",
    "# Download the protected atlas file && unzip it\n",
    "download_and_unzip_if_needed(pipe_dir, prev_step, mysettings)\n",
    "# Download the mpaatlas file \n",
    "download_and_unzip_if_needed(pipe_dir_mpaatlas, prev_step, mysettings)"
   ]
  },
  {
   "cell_type": "code",
   "execution_count": 17,
   "metadata": {},
   "outputs": [],
   "source": [
    "# Load the data\n",
    "mpa_intermediate = gpd.read_file(pipe_dir.get_step_fmt_file_path(prev_step, \"shp\")).pipe(\n",
    "    clean_geometries\n",
    ")\n",
    "mpaatlas_intermediate = gpd.read_file(\n",
    "    pipe_dir_mpaatlas.get_step_fmt_file_path(prev_step, \"shp\")\n",
    ").pipe(clean_geometries)"
   ]
  },
  {
   "cell_type": "code",
   "execution_count": 18,
   "metadata": {},
   "outputs": [
    {
     "data": {
      "text/html": [
       "<div>\n",
       "<style scoped>\n",
       "    .dataframe tbody tr th:only-of-type {\n",
       "        vertical-align: middle;\n",
       "    }\n",
       "\n",
       "    .dataframe tbody tr th {\n",
       "        vertical-align: top;\n",
       "    }\n",
       "\n",
       "    .dataframe thead th {\n",
       "        text-align: right;\n",
       "    }\n",
       "</style>\n",
       "<table border=\"1\" class=\"dataframe\">\n",
       "  <thead>\n",
       "    <tr style=\"text-align: right;\">\n",
       "      <th></th>\n",
       "      <th>WDPAID</th>\n",
       "      <th>WDPA_PID</th>\n",
       "      <th>PA_DEF</th>\n",
       "      <th>NAME</th>\n",
       "      <th>DESIG_ENG</th>\n",
       "      <th>IUCN_CAT</th>\n",
       "      <th>STATUS</th>\n",
       "      <th>STATUS_YR</th>\n",
       "      <th>PARENT_ISO</th>\n",
       "      <th>GIS_M_AREA</th>\n",
       "      <th>geometry</th>\n",
       "    </tr>\n",
       "  </thead>\n",
       "  <tbody>\n",
       "    <tr>\n",
       "      <th>0</th>\n",
       "      <td>33800</td>\n",
       "      <td>33800</td>\n",
       "      <td>1</td>\n",
       "      <td>Hoi Ha Wan</td>\n",
       "      <td>Site of Special Scientific Interest (SSSI)</td>\n",
       "      <td>Not Reported</td>\n",
       "      <td>Designated</td>\n",
       "      <td>1989</td>\n",
       "      <td>CHN</td>\n",
       "      <td>NaN</td>\n",
       "      <td>POLYGON ((10914096.80917 2716480.57181, 109140...</td>\n",
       "    </tr>\n",
       "    <tr>\n",
       "      <th>1</th>\n",
       "      <td>33801</td>\n",
       "      <td>33801</td>\n",
       "      <td>1</td>\n",
       "      <td>Hok Tsui (Cape d'Aguilar)</td>\n",
       "      <td>Site of Special Scientific Interest (SSSI)</td>\n",
       "      <td>Not Reported</td>\n",
       "      <td>Designated</td>\n",
       "      <td>1990</td>\n",
       "      <td>CHN</td>\n",
       "      <td>NaN</td>\n",
       "      <td>POLYGON ((10933980.32964 2718482.04387, 109339...</td>\n",
       "    </tr>\n",
       "  </tbody>\n",
       "</table>\n",
       "</div>"
      ],
      "text/plain": [
       "   WDPAID WDPA_PID PA_DEF                       NAME  \\\n",
       "0   33800    33800      1                 Hoi Ha Wan   \n",
       "1   33801    33801      1  Hok Tsui (Cape d'Aguilar)   \n",
       "\n",
       "                                    DESIG_ENG      IUCN_CAT      STATUS  \\\n",
       "0  Site of Special Scientific Interest (SSSI)  Not Reported  Designated   \n",
       "1  Site of Special Scientific Interest (SSSI)  Not Reported  Designated   \n",
       "\n",
       "   STATUS_YR PARENT_ISO  GIS_M_AREA  \\\n",
       "0       1989        CHN         NaN   \n",
       "1       1990        CHN         NaN   \n",
       "\n",
       "                                            geometry  \n",
       "0  POLYGON ((10914096.80917 2716480.57181, 109140...  \n",
       "1  POLYGON ((10933980.32964 2718482.04387, 109339...  "
      ]
     },
     "execution_count": 18,
     "metadata": {},
     "output_type": "execute_result"
    }
   ],
   "source": [
    "mpa_intermediate.head(2)"
   ]
  },
  {
   "cell_type": "code",
   "execution_count": 19,
   "metadata": {},
   "outputs": [],
   "source": [
    "init_table = (\n",
    "    pd.concat(\n",
    "        [\n",
    "            (\n",
    "                mpa_intermediate.pipe(columns_to_lower)\n",
    "                .pipe(separate_parent_iso, iso_column=\"parent_iso\")\n",
    "                .rename(\n",
    "                    columns={\n",
    "                        \"parent_iso\": \"iso\",\n",
    "                        \"status_yr\": \"year\",\n",
    "                        \"gis_m_area\": \"area_km2\",\n",
    "                    }\n",
    "                ).drop(columns=['status'])\n",
    "            ).assign(source=\"protected_planet\"),\n",
    "            (\n",
    "                mpaatlas_intermediate.pipe(calculate_area)\n",
    "                .pipe(extract_wdpaid_mpaatlas)\n",
    "                .pipe(separate_parent_iso, iso_column=\"location_i\")\n",
    "                .rename(\n",
    "                    columns={\n",
    "                        \"location_i\": \"iso\",\n",
    "                        \"wdpa_id\": \"wdpa_pid\",\n",
    "                        \"designatio\": \"desig_eng\",\n",
    "                    }\n",
    "                )\n",
    "            ).assign(source=\"mpaatlas\"\n",
    "            ).astype({\"mpa_zone_i\": \"Int64\"}),\n",
    "        ],\n",
    "        ignore_index=True,\n",
    "    )\n",
    "    .reset_index(drop=True)\n",
    "    .replace(\n",
    "        {\n",
    "            \"iso\": {\n",
    "                \"COK\": \"NZL\",\n",
    "                \"IOT\": \"GBR\",\n",
    "                \"NIU\": \"NZL\",\n",
    "                \"SHN\": \"GBR\",\n",
    "                \"SJM\": \"NOR\",\n",
    "                \"UMI\": \"USA\",\n",
    "                \"NCL\": \"FRA\",\n",
    "            }\n",
    "        }\n",
    "    )\n",
    "    .sort_values(by=[\"wdpa_pid\", \"wdpa_pid\", \"source\"], ascending=[True, True, False])\n",
    ")"
   ]
  },
  {
   "cell_type": "code",
   "execution_count": 20,
   "metadata": {},
   "outputs": [],
   "source": [
    "#  to be run if things change a lot in the future\n",
    "# iucn_cat = pd.DataFrame(\n",
    "#     {\"slug\": init_table.iucn_cat.dropna().unique(), \"name\": init_table.iucn_cat.dropna().unique()},\n",
    "#     index=pd.Index(np.arange(1, len(init_table.iucn_cat.dropna().unique()) + 1)),\n",
    "# )\n",
    "# iucn_cat.to_csv(pipe_dir.get_processed_step_path(current_step).joinpath(\"iucn_categories.csv\"), index=True)\n",
    "\n",
    "iucn_cat = pd.read_csv(\n",
    "    pipe_dir.get_processed_step_path(current_step).joinpath(\"iucn_categories.csv\"), index_col=0\n",
    ")"
   ]
  },
  {
   "cell_type": "code",
   "execution_count": 21,
   "metadata": {},
   "outputs": [],
   "source": [
    "mpa_table = (\n",
    "    init_table.pipe(add_bbox, \"bbox\")\n",
    "    .pipe(define_is_child)\n",
    "    .pipe(set_child_id)\n",
    "    .sort_values(by=[\"wdpaid\", \"is_child\"], ascending=[True, True])\n",
    "    .reset_index(drop=True)\n",
    "    .pipe(\n",
    "        output,\n",
    "        iso_column=\"iso\",\n",
    "        rep_d={\n",
    "            \"status\": {\n",
    "                \"Adopted\": 4,\n",
    "                \"implemented\": 6,\n",
    "                \"Established\": 6,\n",
    "                \"Designated\": 5,\n",
    "                \"Proposed\": 3,\n",
    "                \"Inscribed\": 3,\n",
    "                \"unknown\": 1,\n",
    "            },\n",
    "            \"pa_def\": {\"0\": 2, \"1\": 1},\n",
    "            \"year\": {0: pd.NA},\n",
    "            \"iucn_cat\": dict(\n",
    "                iucn_cat[[\"slug\"]]\n",
    "                .reset_index(drop=False)\n",
    "                .iloc[:, [1, 0]]\n",
    "                .to_dict(orient=\"tight\")[\"data\"]\n",
    "            ),\n",
    "            \"source\": {\"protected_planet\": 3, \"mpaatlas\": 1},\n",
    "            \"protection\": {\n",
    "                \"full\": 3,\n",
    "                \"light\": 4,\n",
    "                \"incompatible\": 5,\n",
    "                \"high\": 6,\n",
    "                \"minimal\": 7,\n",
    "                \"unknown\": 8,\n",
    "                \"unknown/to be determined\": 8,\n",
    "            },\n",
    "            \"establishm\": {\n",
    "                \"actively managed\": 4,\n",
    "                \"implemented\": 6,\n",
    "                \"designated\": 5,\n",
    "                \"Designated\": 5,\n",
    "                \"proposed or committed\": 3,\n",
    "                \"Proposed\": 3,\n",
    "                \"Inscribed\": 3,\n",
    "                \"Established\": 5,\n",
    "                \"Adopted\": 5,\n",
    "                \"unknown\": 1,\n",
    "            },\n",
    "        },\n",
    "        rename={\n",
    "            \"pa_def\": \"protection_status\",\n",
    "            \"area_km2\": \"area\",\n",
    "            \"iucn_cat\": \"mpa_iucn_category\",\n",
    "            \"desig_eng\": \"designation\",\n",
    "            \"protection\": \"mpaa_protection_level\",\n",
    "            \"establishm\": \"mpaa_establishment_stage\",\n",
    "            \"source\": \"data_source\",\n",
    "        },\n",
    "        drop_cols=[\"geometry\", \"iso\", \"protecti_1\"],  # \"WDPAID\",\n",
    "    )\n",
    "    .pipe(add_child_parent_relationship)\n",
    "    .astype(\n",
    "        {\n",
    "            \"year\": \"Int32\",\n",
    "            \"mpa_iucn_category\": \"Int64\",\n",
    "            \"protection_status\": \"Int64\",\n",
    "        }\n",
    "    )\n",
    "    .sort_index()\n",
    ")"
   ]
  },
  {
   "cell_type": "code",
   "execution_count": 22,
   "metadata": {},
   "outputs": [],
   "source": [
    "mpa_table.to_csv(output_file_mpas, index=True)"
   ]
  },
  {
   "cell_type": "code",
   "execution_count": 80,
   "metadata": {},
   "outputs": [],
   "source": [
    "# todo investigate the issue with area as null"
   ]
  },
  {
   "cell_type": "code",
   "execution_count": 25,
   "metadata": {},
   "outputs": [],
   "source": [
    "batch_export(\n",
    "    mpa_table[mpa_table.area.notna()],\n",
    "    5000,\n",
    "    MPAsSchema,\n",
    "    pipe_dir.get_processed_step_path(current_step),\n",
    "    \"mpa_detail\",\n",
    "    format=\"json\",\n",
    "    strapi_colection=strapi_collection_mpas,\n",
    ")"
   ]
  },
  {
   "cell_type": "code",
   "execution_count": 33,
   "metadata": {},
   "outputs": [],
   "source": [
    "# # This code is to be able to identify groups that has wdpa_pid so in the future if needed we could combine the group geometries to generate a wdpa coverage geometry\n",
    "# init_table[\n",
    "#     (\n",
    "#         init_table.sort_values(by=[\"wdpaid\", \"source\"], ascending=[True, False])\n",
    "#         .groupby(\"wdpaid\")\n",
    "#         .transform(\"size\")\n",
    "#         .gt(1)\n",
    "#     )\n",
    "#     & (init_table.wdpa_pid.str.extract(r\"([A-Za-z]+)\", expand=False).notna())\n",
    "# ].groupby(\"wdpaid\")\n",
    "# .geometry.apply(lambda x: x.union_all())"
   ]
  },
  {
   "cell_type": "markdown",
   "metadata": {},
   "source": [
    "#### upload data to strapi"
   ]
  },
  {
   "cell_type": "code",
   "execution_count": 7,
   "metadata": {},
   "outputs": [
    {
     "data": {
      "text/plain": [
       "<helpers.strapi.Strapi at 0x7f913ef00680>"
      ]
     },
     "execution_count": 7,
     "metadata": {},
     "output_type": "execute_result"
    }
   ],
   "source": [
    "strapi.deleteCollectionData(\"mpa\", list(range(1, 20914)))"
   ]
  },
  {
   "cell_type": "code",
   "execution_count": 8,
   "metadata": {},
   "outputs": [
    {
     "ename": "NameError",
     "evalue": "name 'mpa_folder' is not defined",
     "output_type": "error",
     "traceback": [
      "\u001b[0;31m---------------------------------------------------------------------------\u001b[0m",
      "\u001b[0;31mNameError\u001b[0m                                 Traceback (most recent call last)",
      "Cell \u001b[0;32mIn[8], line 4\u001b[0m\n\u001b[1;32m      1\u001b[0m \u001b[38;5;28;01mfor\u001b[39;00m i \u001b[38;5;129;01min\u001b[39;00m \u001b[38;5;28mrange\u001b[39m(\u001b[38;5;241m0\u001b[39m, \u001b[38;5;241m4\u001b[39m):\n\u001b[1;32m      2\u001b[0m     strapi\u001b[38;5;241m.\u001b[39mimportCollectionData(\n\u001b[1;32m      3\u001b[0m         strapi_collection_mpas,\n\u001b[0;32m----> 4\u001b[0m         \u001b[43mmpa_folder\u001b[49m\u001b[38;5;241m.\u001b[39mjoinpath(\u001b[38;5;124mf\u001b[39m\u001b[38;5;124m\"\u001b[39m\u001b[38;5;124mmpa_detail_\u001b[39m\u001b[38;5;132;01m{\u001b[39;00mi\u001b[38;5;132;01m}\u001b[39;00m\u001b[38;5;124m.csv\u001b[39m\u001b[38;5;124m\"\u001b[39m),\n\u001b[1;32m      5\u001b[0m     )\n",
      "\u001b[0;31mNameError\u001b[0m: name 'mpa_folder' is not defined"
     ]
    }
   ],
   "source": [
    "for i in range(0, 4):\n",
    "    strapi.importCollectionData(\n",
    "        strapi_collection_mpas,\n",
    "        mpa_folder.joinpath(f\"mpa_detail_{i}.csv\"),\n",
    "    )"
   ]
  },
  {
   "cell_type": "markdown",
   "metadata": {},
   "source": [
    "### Coverage stats - Tpas"
   ]
  },
  {
   "cell_type": "markdown",
   "metadata": {},
   "source": [
    "We are going to use the intermediate data from eez, in order to create a dataset that can be used as a land mask.\n",
    "The steps are:\n",
    "1. Load eez\n",
    "2. Spatial inner Join the eez dataset with the Mpas one\n",
    "3. Assign the location iso\n",
    "4. dissolve by location iso and cummulative year\n",
    "5. calculate the area for global regions and eez countries\n",
    "6. prepare the data to be ingested in strapi\n",
    "7. upload the data to strapi"
   ]
  },
  {
   "cell_type": "code",
   "execution_count": 6,
   "metadata": {},
   "outputs": [
    {
     "name": "stdout",
     "output_type": "stream",
     "text": [
      "/home/mambauser/data/gadm/processed/gadm_preprocess.zip\n",
      "/home/mambauser/data/gadm/processed/preprocess\n",
      "/home/mambauser/data/mpa-terrestrial/processed/mpa-terrestrial_preprocess.zip\n",
      "/home/mambauser/data/mpa-terrestrial/processed/preprocess\n"
     ]
    }
   ],
   "source": [
    "pipe = \"mpa-terrestrial\"\n",
    "strapi_collection = \"\"\n",
    "\n",
    "pipe_dir_gadm = FileConventionHandler(\"gadm\")\n",
    "pipe_dir_pas = FileConventionHandler(pipe)\n",
    "output_file = pipe_dir_pas.get_processed_step_path(current_step).joinpath(\n",
    "    \"pa_landmask_strapi.csv\"\n",
    ")\n",
    "\n",
    "# Download the EEZ file && unzip it\n",
    "download_and_unzip_if_needed(pipe_dir_gadm, prev_step, mysettings)\n",
    "# Download the mpas file && unzip it\n",
    "download_and_unzip_if_needed(pipe_dir_pas, prev_step, mysettings)\n",
    "\n",
    "# Load the data\n",
    "gadm = gpd.read_file(pipe_dir_gadm.get_step_fmt_file_path(prev_step, \"shp\")).pipe(clean_geometries)\n",
    "pas = gpd.read_file(pipe_dir_pas.get_step_fmt_file_path(prev_step, \"shp\")).pipe(clean_geometries)"
   ]
  },
  {
   "cell_type": "code",
   "execution_count": 8,
   "metadata": {},
   "outputs": [
    {
     "name": "stderr",
     "output_type": "stream",
     "text": [
      "100%|██████████| 206/206 [02:20<00:00,  1.47it/s]\n"
     ]
    }
   ],
   "source": [
    "gadm_simp = await simplify_async(gadm)"
   ]
  },
  {
   "cell_type": "code",
   "execution_count": 9,
   "metadata": {},
   "outputs": [
    {
     "name": "stderr",
     "output_type": "stream",
     "text": [
      "100%|██████████| 206/206 [7:47:52<00:00, 136.27s/it] \n"
     ]
    },
    {
     "name": "stderr",
     "output_type": "stream",
     "text": [
      " 16%|█▌        | 32/206 [00:04<00:32,  5.29it/s]"
     ]
    },
    {
     "name": "stdout",
     "output_type": "stream",
     "text": [
      "<class 'shapely.geometry.base.GeometrySequence'>\n"
     ]
    },
    {
     "name": "stderr",
     "output_type": "stream",
     "text": [
      " 34%|███▍      | 71/206 [00:18<01:00,  2.24it/s]"
     ]
    },
    {
     "name": "stdout",
     "output_type": "stream",
     "text": [
      "<class 'shapely.geometry.base.GeometrySequence'>\n"
     ]
    },
    {
     "name": "stderr",
     "output_type": "stream",
     "text": [
      " 73%|███████▎  | 150/206 [03:14<07:39,  8.21s/it]"
     ]
    },
    {
     "name": "stdout",
     "output_type": "stream",
     "text": [
      "<class 'shapely.geometry.base.GeometrySequence'>\n"
     ]
    },
    {
     "name": "stderr",
     "output_type": "stream",
     "text": [
      "100%|██████████| 206/206 [7:47:52<00:00, 5051.81s/it]  "
     ]
    }
   ],
   "source": [
    "gadm_pas_data_join = await spatial_join(gadm_simp, pas.pipe(filter_by_exluding_propossed_mpas))"
   ]
  },
  {
   "cell_type": "code",
   "execution_count": 13,
   "metadata": {},
   "outputs": [
    {
     "data": {
      "text/html": [
       "<div>\n",
       "<style scoped>\n",
       "    .dataframe tbody tr th:only-of-type {\n",
       "        vertical-align: middle;\n",
       "    }\n",
       "\n",
       "    .dataframe tbody tr th {\n",
       "        vertical-align: top;\n",
       "    }\n",
       "\n",
       "    .dataframe thead th {\n",
       "        text-align: right;\n",
       "    }\n",
       "</style>\n",
       "<table border=\"1\" class=\"dataframe\">\n",
       "  <thead>\n",
       "    <tr style=\"text-align: right;\">\n",
       "      <th></th>\n",
       "      <th>WDPAID</th>\n",
       "      <th>WDPA_PID</th>\n",
       "      <th>PA_DEF</th>\n",
       "      <th>NAME</th>\n",
       "      <th>DESIG_ENG</th>\n",
       "      <th>IUCN_CAT</th>\n",
       "      <th>MARINE</th>\n",
       "      <th>GIS_AREA</th>\n",
       "      <th>STATUS</th>\n",
       "      <th>STATUS_YR</th>\n",
       "      <th>PARENT_ISO</th>\n",
       "      <th>geometry</th>\n",
       "      <th>index_right</th>\n",
       "      <th>COUNTRY</th>\n",
       "      <th>GID_0</th>\n",
       "      <th>area_km2</th>\n",
       "      <th>COUNTRY_ES</th>\n",
       "      <th>COUNTRY_FR</th>\n",
       "    </tr>\n",
       "  </thead>\n",
       "  <tbody>\n",
       "    <tr>\n",
       "      <th>0</th>\n",
       "      <td>17131.0</td>\n",
       "      <td>17131</td>\n",
       "      <td>1</td>\n",
       "      <td>Hamoun</td>\n",
       "      <td>Protected Area</td>\n",
       "      <td>V</td>\n",
       "      <td>0</td>\n",
       "      <td>3022.952813</td>\n",
       "      <td>Designated</td>\n",
       "      <td>1968.0</td>\n",
       "      <td>IRN</td>\n",
       "      <td>POLYGON ((61.19578 31.44834, 61.36976 31.42576...</td>\n",
       "      <td>0.0</td>\n",
       "      <td>Afghanistan</td>\n",
       "      <td>AFG</td>\n",
       "      <td>644050.28</td>\n",
       "      <td>Afganistán</td>\n",
       "      <td>Afghanistan</td>\n",
       "    </tr>\n",
       "    <tr>\n",
       "      <th>1</th>\n",
       "      <td>17160.0</td>\n",
       "      <td>17160</td>\n",
       "      <td>1</td>\n",
       "      <td>Hamun-e-Puzak, south end</td>\n",
       "      <td>Ramsar Site, Wetland of International Importance</td>\n",
       "      <td>Not Reported</td>\n",
       "      <td>0</td>\n",
       "      <td>172.551965</td>\n",
       "      <td>Designated</td>\n",
       "      <td>1975.0</td>\n",
       "      <td>IRN</td>\n",
       "      <td>POLYGON ((61.75037 31.33179, 61.72363 31.35944...</td>\n",
       "      <td>0.0</td>\n",
       "      <td>Afghanistan</td>\n",
       "      <td>AFG</td>\n",
       "      <td>644050.28</td>\n",
       "      <td>Afganistán</td>\n",
       "      <td>Afghanistan</td>\n",
       "    </tr>\n",
       "    <tr>\n",
       "      <th>2</th>\n",
       "      <td>1118.0</td>\n",
       "      <td>1118</td>\n",
       "      <td>1</td>\n",
       "      <td>Dasht-i-Nawar</td>\n",
       "      <td>Waterfowl  Sanctuary</td>\n",
       "      <td>IV</td>\n",
       "      <td>0</td>\n",
       "      <td>375.359815</td>\n",
       "      <td>Designated</td>\n",
       "      <td>2020.0</td>\n",
       "      <td>AFG</td>\n",
       "      <td>POLYGON ((67.76059 33.78497, 67.75989 33.78315...</td>\n",
       "      <td>0.0</td>\n",
       "      <td>Afghanistan</td>\n",
       "      <td>AFG</td>\n",
       "      <td>644050.28</td>\n",
       "      <td>Afganistán</td>\n",
       "      <td>Afghanistan</td>\n",
       "    </tr>\n",
       "    <tr>\n",
       "      <th>3</th>\n",
       "      <td>15133.0</td>\n",
       "      <td>15133</td>\n",
       "      <td>1</td>\n",
       "      <td>Kol-i-Hashmat Khan</td>\n",
       "      <td>Waterfowl  Sanctuary</td>\n",
       "      <td>IV</td>\n",
       "      <td>0</td>\n",
       "      <td>1.665554</td>\n",
       "      <td>Designated</td>\n",
       "      <td>2017.0</td>\n",
       "      <td>AFG</td>\n",
       "      <td>MULTIPOLYGON (((69.20214 34.49681, 69.2028 34....</td>\n",
       "      <td>0.0</td>\n",
       "      <td>Afghanistan</td>\n",
       "      <td>AFG</td>\n",
       "      <td>644050.28</td>\n",
       "      <td>Afganistán</td>\n",
       "      <td>Afghanistan</td>\n",
       "    </tr>\n",
       "    <tr>\n",
       "      <th>4</th>\n",
       "      <td>555705308.0</td>\n",
       "      <td>555705308</td>\n",
       "      <td>1</td>\n",
       "      <td>Koh-e Baba (Shah Foladi)</td>\n",
       "      <td>Protected Landscape</td>\n",
       "      <td>V</td>\n",
       "      <td>0</td>\n",
       "      <td>341.997539</td>\n",
       "      <td>Designated</td>\n",
       "      <td>2019.0</td>\n",
       "      <td>AFG</td>\n",
       "      <td>POLYGON ((67.99935 34.66263, 67.9932 34.66009,...</td>\n",
       "      <td>0.0</td>\n",
       "      <td>Afghanistan</td>\n",
       "      <td>AFG</td>\n",
       "      <td>644050.28</td>\n",
       "      <td>Afganistán</td>\n",
       "      <td>Afghanistan</td>\n",
       "    </tr>\n",
       "    <tr>\n",
       "      <th>...</th>\n",
       "      <td>...</td>\n",
       "      <td>...</td>\n",
       "      <td>...</td>\n",
       "      <td>...</td>\n",
       "      <td>...</td>\n",
       "      <td>...</td>\n",
       "      <td>...</td>\n",
       "      <td>...</td>\n",
       "      <td>...</td>\n",
       "      <td>...</td>\n",
       "      <td>...</td>\n",
       "      <td>...</td>\n",
       "      <td>...</td>\n",
       "      <td>...</td>\n",
       "      <td>...</td>\n",
       "      <td>...</td>\n",
       "      <td>...</td>\n",
       "      <td>...</td>\n",
       "    </tr>\n",
       "    <tr>\n",
       "      <th>289347</th>\n",
       "      <td>2531.0</td>\n",
       "      <td>2531</td>\n",
       "      <td>1</td>\n",
       "      <td>Mana Pools</td>\n",
       "      <td>National Park</td>\n",
       "      <td>II</td>\n",
       "      <td>0</td>\n",
       "      <td>2134.271397</td>\n",
       "      <td>Designated</td>\n",
       "      <td>1975.0</td>\n",
       "      <td>ZWE</td>\n",
       "      <td>POLYGON ((29.56479 -15.6758, 29.56611 -15.6757...</td>\n",
       "      <td>0.0</td>\n",
       "      <td>Zimbabwe</td>\n",
       "      <td>ZWE</td>\n",
       "      <td>391234.88</td>\n",
       "      <td>Zimbabue</td>\n",
       "      <td>Zimbabwe</td>\n",
       "    </tr>\n",
       "    <tr>\n",
       "      <th>289348</th>\n",
       "      <td>2526.0</td>\n",
       "      <td>2526</td>\n",
       "      <td>1</td>\n",
       "      <td>Sapi</td>\n",
       "      <td>Safari Area</td>\n",
       "      <td>VI</td>\n",
       "      <td>0</td>\n",
       "      <td>1200.644367</td>\n",
       "      <td>Designated</td>\n",
       "      <td>1975.0</td>\n",
       "      <td>ZWE</td>\n",
       "      <td>POLYGON ((29.88011 -15.67272, 29.87637 -15.679...</td>\n",
       "      <td>0.0</td>\n",
       "      <td>Zimbabwe</td>\n",
       "      <td>ZWE</td>\n",
       "      <td>391234.88</td>\n",
       "      <td>Zimbabue</td>\n",
       "      <td>Zimbabwe</td>\n",
       "    </tr>\n",
       "    <tr>\n",
       "      <th>289349</th>\n",
       "      <td>62095.0</td>\n",
       "      <td>62095</td>\n",
       "      <td>1</td>\n",
       "      <td>Chiawa</td>\n",
       "      <td>Game Management Area</td>\n",
       "      <td>VI</td>\n",
       "      <td>0</td>\n",
       "      <td>2413.162703</td>\n",
       "      <td>Designated</td>\n",
       "      <td>1989.0</td>\n",
       "      <td>ZMB</td>\n",
       "      <td>MULTIPOLYGON (((29.10233 -15.86402, 29.09482 -...</td>\n",
       "      <td>0.0</td>\n",
       "      <td>Zimbabwe</td>\n",
       "      <td>ZWE</td>\n",
       "      <td>391234.88</td>\n",
       "      <td>Zimbabue</td>\n",
       "      <td>Zimbabwe</td>\n",
       "    </tr>\n",
       "    <tr>\n",
       "      <th>289350</th>\n",
       "      <td>7962.0</td>\n",
       "      <td>7962</td>\n",
       "      <td>1</td>\n",
       "      <td>Lower Zambezi</td>\n",
       "      <td>National Park</td>\n",
       "      <td>II</td>\n",
       "      <td>0</td>\n",
       "      <td>4161.873753</td>\n",
       "      <td>Designated</td>\n",
       "      <td>1983.0</td>\n",
       "      <td>ZMB</td>\n",
       "      <td>MULTIPOLYGON (((30.2016 -15.65147, 30.20137 -1...</td>\n",
       "      <td>0.0</td>\n",
       "      <td>Zimbabwe</td>\n",
       "      <td>ZWE</td>\n",
       "      <td>391234.88</td>\n",
       "      <td>Zimbabue</td>\n",
       "      <td>Zimbabwe</td>\n",
       "    </tr>\n",
       "    <tr>\n",
       "      <th>289351</th>\n",
       "      <td>303859.0</td>\n",
       "      <td>303859</td>\n",
       "      <td>1</td>\n",
       "      <td>Rufunsa</td>\n",
       "      <td>Game Management Area</td>\n",
       "      <td>VI</td>\n",
       "      <td>0</td>\n",
       "      <td>3282.220906</td>\n",
       "      <td>Designated</td>\n",
       "      <td>1980.0</td>\n",
       "      <td>ZMB</td>\n",
       "      <td>POLYGON ((30.41517 -15.61634, 30.41688 -15.616...</td>\n",
       "      <td>0.0</td>\n",
       "      <td>Zimbabwe</td>\n",
       "      <td>ZWE</td>\n",
       "      <td>391234.88</td>\n",
       "      <td>Zimbabue</td>\n",
       "      <td>Zimbabwe</td>\n",
       "    </tr>\n",
       "  </tbody>\n",
       "</table>\n",
       "<p>289352 rows × 18 columns</p>\n",
       "</div>"
      ],
      "text/plain": [
       "             WDPAID   WDPA_PID PA_DEF                      NAME  \\\n",
       "0           17131.0      17131      1                    Hamoun   \n",
       "1           17160.0      17160      1  Hamun-e-Puzak, south end   \n",
       "2            1118.0       1118      1             Dasht-i-Nawar   \n",
       "3           15133.0      15133      1        Kol-i-Hashmat Khan   \n",
       "4       555705308.0  555705308      1  Koh-e Baba (Shah Foladi)   \n",
       "...             ...        ...    ...                       ...   \n",
       "289347       2531.0       2531      1                Mana Pools   \n",
       "289348       2526.0       2526      1                      Sapi   \n",
       "289349      62095.0      62095      1                    Chiawa   \n",
       "289350       7962.0       7962      1             Lower Zambezi   \n",
       "289351     303859.0     303859      1                   Rufunsa   \n",
       "\n",
       "                                               DESIG_ENG      IUCN_CAT MARINE  \\\n",
       "0                                         Protected Area             V      0   \n",
       "1       Ramsar Site, Wetland of International Importance  Not Reported      0   \n",
       "2                                   Waterfowl  Sanctuary            IV      0   \n",
       "3                                   Waterfowl  Sanctuary            IV      0   \n",
       "4                                    Protected Landscape             V      0   \n",
       "...                                                  ...           ...    ...   \n",
       "289347                                     National Park            II      0   \n",
       "289348                                       Safari Area            VI      0   \n",
       "289349                              Game Management Area            VI      0   \n",
       "289350                                     National Park            II      0   \n",
       "289351                              Game Management Area            VI      0   \n",
       "\n",
       "           GIS_AREA      STATUS  STATUS_YR PARENT_ISO  \\\n",
       "0       3022.952813  Designated     1968.0        IRN   \n",
       "1        172.551965  Designated     1975.0        IRN   \n",
       "2        375.359815  Designated     2020.0        AFG   \n",
       "3          1.665554  Designated     2017.0        AFG   \n",
       "4        341.997539  Designated     2019.0        AFG   \n",
       "...             ...         ...        ...        ...   \n",
       "289347  2134.271397  Designated     1975.0        ZWE   \n",
       "289348  1200.644367  Designated     1975.0        ZWE   \n",
       "289349  2413.162703  Designated     1989.0        ZMB   \n",
       "289350  4161.873753  Designated     1983.0        ZMB   \n",
       "289351  3282.220906  Designated     1980.0        ZMB   \n",
       "\n",
       "                                                 geometry  index_right  \\\n",
       "0       POLYGON ((61.19578 31.44834, 61.36976 31.42576...          0.0   \n",
       "1       POLYGON ((61.75037 31.33179, 61.72363 31.35944...          0.0   \n",
       "2       POLYGON ((67.76059 33.78497, 67.75989 33.78315...          0.0   \n",
       "3       MULTIPOLYGON (((69.20214 34.49681, 69.2028 34....          0.0   \n",
       "4       POLYGON ((67.99935 34.66263, 67.9932 34.66009,...          0.0   \n",
       "...                                                   ...          ...   \n",
       "289347  POLYGON ((29.56479 -15.6758, 29.56611 -15.6757...          0.0   \n",
       "289348  POLYGON ((29.88011 -15.67272, 29.87637 -15.679...          0.0   \n",
       "289349  MULTIPOLYGON (((29.10233 -15.86402, 29.09482 -...          0.0   \n",
       "289350  MULTIPOLYGON (((30.2016 -15.65147, 30.20137 -1...          0.0   \n",
       "289351  POLYGON ((30.41517 -15.61634, 30.41688 -15.616...          0.0   \n",
       "\n",
       "            COUNTRY GID_0   area_km2  COUNTRY_ES   COUNTRY_FR  \n",
       "0       Afghanistan   AFG  644050.28  Afganistán  Afghanistan  \n",
       "1       Afghanistan   AFG  644050.28  Afganistán  Afghanistan  \n",
       "2       Afghanistan   AFG  644050.28  Afganistán  Afghanistan  \n",
       "3       Afghanistan   AFG  644050.28  Afganistán  Afghanistan  \n",
       "4       Afghanistan   AFG  644050.28  Afganistán  Afghanistan  \n",
       "...             ...   ...        ...         ...          ...  \n",
       "289347     Zimbabwe   ZWE  391234.88    Zimbabue     Zimbabwe  \n",
       "289348     Zimbabwe   ZWE  391234.88    Zimbabue     Zimbabwe  \n",
       "289349     Zimbabwe   ZWE  391234.88    Zimbabue     Zimbabwe  \n",
       "289350     Zimbabwe   ZWE  391234.88    Zimbabue     Zimbabwe  \n",
       "289351     Zimbabwe   ZWE  391234.88    Zimbabue     Zimbabwe  \n",
       "\n",
       "[289352 rows x 18 columns]"
      ]
     },
     "execution_count": 13,
     "metadata": {},
     "output_type": "execute_result"
    }
   ],
   "source": [
    "gadm_pas_data_join"
   ]
  },
  {
   "cell_type": "code",
   "execution_count": 17,
   "metadata": {},
   "outputs": [
    {
     "name": "stderr",
     "output_type": "stream",
     "text": [
      "INFO:pyogrio._io:Created 289,352 records\n"
     ]
    }
   ],
   "source": [
    "# To get an idea of the spatial join results\n",
    "gadm_pas_data_join.pipe(assign_iso3, False).to_file(\n",
    "    pipe_dir_pas.get_processed_step_path(current_step).joinpath(\"mpas_sjoin.shp\"),\n",
    "    driver=\"ESRI Shapefile\",\n",
    ")"
   ]
  },
  {
   "cell_type": "code",
   "execution_count": 22,
   "metadata": {},
   "outputs": [
    {
     "name": "stderr",
     "output_type": "stream",
     "text": [
      "  0%|          | 0/14 [00:00<?, ?it/s]"
     ]
    }
   ],
   "source": [
    "final_data = await process_tpa_data(\n",
    "    gadm_pas_data_join.pipe(assign_iso3, False),\n",
    "    range(2011, time.localtime().tm_year + 1),\n",
    "    [\"PA_DEF\", \"iso_3\"],\n",
    "    {\"protectedAreasCount\": \"sum\"},\n",
    ")"
   ]
  },
  {
   "cell_type": "code",
   "execution_count": null,
   "metadata": {},
   "outputs": [],
   "source": [
    "coverage = (\n",
    "    final_data.pipe(calculate_global_area, [\"year\", \"PA_DEF\"], {\"area\": \"sum\"}, \"iso_3\")\n",
    "    .pipe(separate_parent_iso, \"iso_3\")\n",
    "    .pipe(add_region_iso, \"iso_3\")\n",
    "    .replace(\n",
    "        {\n",
    "            \"iso_3\": {\n",
    "                \"ATA\": \"ABNJ\",\n",
    "                \"COK\": \"NZL\",\n",
    "                \"IOT\": \"GBR\",\n",
    "                \"NIU\": \"NZL\",\n",
    "                \"SHN\": \"GBR\",\n",
    "                \"SJM\": \"NOR\",\n",
    "                \"UMI\": \"USA\",\n",
    "                \"NCL\": \"FRA\",\n",
    "                \"GIB\": \"GBR\",\n",
    "            }\n",
    "        }\n",
    "    )\n",
    "    .pipe(calculate_stats_cov, [\"year\", \"PA_DEF\"], \"iso_3\")\n",
    "    .pipe(coverage_stats)\n",
    ")\n",
    "\n",
    "ProtectedAreaExtentSchema(\n",
    "    coverage.pipe(\n",
    "        output,\n",
    "        \"iso_3\",\n",
    "        {\"PA_DEF\": {\"0\": 2, \"1\": 1}},\n",
    "        {\"PARENT_NAME\": \"location\", \"PA_DEF\": \"protection_status\"},\n",
    "        [\"area\", \"iso_3\"],\n",
    "    )\n",
    ").to_csv(\n",
    "    output_file,\n",
    "    index=True,\n",
    ")"
   ]
  },
  {
   "cell_type": "code",
   "execution_count": null,
   "metadata": {},
   "outputs": [],
   "source": [
    "strapi_collection = \"protection-coverage-stat\""
   ]
  },
  {
   "cell_type": "code",
   "execution_count": null,
   "metadata": {},
   "outputs": [
    {
     "data": {
      "text/plain": [
       "<helpers.strapi.Strapi at 0x7fda8ddb8860>"
      ]
     },
     "metadata": {},
     "output_type": "display_data"
    }
   ],
   "source": [
    "strapi.deleteCollectionData(strapi_collection, list(range(1, 2300)))"
   ]
  },
  {
   "cell_type": "code",
   "execution_count": null,
   "metadata": {},
   "outputs": [],
   "source": [
    "strapi.importCollectionData(\n",
    "    strapi_collection,\n",
    "    output_file,\n",
    ")"
   ]
  }
 ],
 "metadata": {
  "kernelspec": {
   "display_name": "Python 3 (ipykernel)",
   "language": "python",
   "name": "python3"
  },
  "language_info": {
   "codemirror_mode": {
    "name": "ipython",
    "version": 3
   },
   "file_extension": ".py",
   "mimetype": "text/x-python",
   "name": "python",
   "nbconvert_exporter": "python",
   "pygments_lexer": "ipython3",
   "version": "3.12.5"
  }
 },
 "nbformat": 4,
 "nbformat_minor": 2
}
