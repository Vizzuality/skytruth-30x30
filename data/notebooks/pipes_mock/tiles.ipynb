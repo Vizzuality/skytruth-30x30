{
 "cells": [
  {
   "cell_type": "code",
   "execution_count": 1,
   "metadata": {},
   "outputs": [],
   "source": [
    "%load_ext autoreload\n",
    "%autoreload 2"
   ]
  },
  {
   "cell_type": "code",
   "execution_count": 1,
   "metadata": {},
   "outputs": [],
   "source": [
    "from typing import Union\n",
    "from dataclasses import dataclass\n",
    "import subprocess\n",
    "import logging\n",
    "from pathlib import Path\n",
    "import sys\n",
    "import geopandas as gpd\n",
    "import rasterio as rio\n",
    "from rasterio.enums import ColorInterp\n",
    "from rasterio.plot import show\n",
    "import numpy as np\n",
    "import pandas as pd\n",
    "import json\n",
    "import dotenv\n",
    "\n",
    "dotenv.load_dotenv()\n",
    "\n",
    "\n",
    "scripts_dir = Path(\".\").joinpath(\"src\")\n",
    "if scripts_dir not in sys.path:\n",
    "    sys.path.insert(0, scripts_dir.resolve().as_posix())\n",
    "from helpers.mapshaper import Mapshaper\n",
    "from helpers.tippcanoe import mbtileGeneration\n",
    "from helpers.mapbox_uploader import uploadToMapbox\n",
    "from helpers.settings import get_settings\n",
    "from helpers.file_handler import FileConventionHandler\n",
    "from helpers.utils import download_and_unzip_if_needed, writeReadGCP\n",
    "\n",
    "from pipelines.processors import clean_geometries, add_names_and_translations_to_regions, split_n_parts, create_color_map, hex_to_rgb"
   ]
  },
  {
   "cell_type": "code",
   "execution_count": 2,
   "metadata": {},
   "outputs": [],
   "source": [
    "mysettings = get_settings()\n",
    "prev_step = \"preprocess\"\n",
    "current_step = \"tiles\""
   ]
  },
  {
   "cell_type": "markdown",
   "metadata": {
    "jp-MarkdownHeadingCollapsed": true
   },
   "source": [
    "### EEZs: Exclusive Economic Zones "
   ]
  },
  {
   "cell_type": "code",
   "execution_count": 4,
   "metadata": {},
   "outputs": [
    {
     "name": "stdout",
     "output_type": "stream",
     "text": [
      "/home/sofia/dev/skytruth-30x30/data/data/eez/processed/eez_preprocess.zip\n",
      "/home/sofia/dev/skytruth-30x30/data/data/eez/processed/preprocess\n"
     ]
    },
    {
     "name": "stderr",
     "output_type": "stream",
     "text": [
      "Allocating 8 GB of heap memory\n",
      "[o] Wrote /home/sofia/dev/skytruth-30x30/data/data/eez/processed/tiles/eez_tiles.json\n"
     ]
    },
    {
     "data": {
      "text/plain": [
       "PosixPath('/home/sofia/dev/skytruth-30x30/data/data/eez/processed/tiles/eez_v11.mbtiles')"
      ]
     },
     "execution_count": 4,
     "metadata": {},
     "output_type": "execute_result"
    }
   ],
   "source": [
    "pipe = \"eez\"\n",
    "collection_name = f\"{pipe}_v11\"\n",
    "\n",
    "eez_dir = FileConventionHandler(pipe)\n",
    "# Download the EEZ file && unzip it\n",
    "download_and_unzip_if_needed(eez_dir, prev_step, mysettings)\n",
    "\n",
    "# simplify the geometries\n",
    "Mapshaper(8).input([eez_dir.get_step_fmt_file_path(prev_step, \"shp\").as_posix()]).filter_fields(\n",
    "    fields=\",\".join([\"GEONAME\", \"POL_TYPE\", \"ISO_SOV1\", \"ISO_SOV2\", \"ISO_SOV3\"])\n",
    ").output(\n",
    "    eez_dir.get_step_fmt_file_path(current_step, \"json\").as_posix(), force=True, format=\"geojson\"\n",
    ").execute()\n",
    "mbtileGeneration(\n",
    "    eez_dir.get_step_fmt_file_path(current_step, \"json\"),\n",
    "    eez_dir.get_processed_step_path(current_step).joinpath(f\"{collection_name}.mbtiles\"),\n",
    ")"
   ]
  },
  {
   "cell_type": "code",
   "execution_count": null,
   "metadata": {},
   "outputs": [],
   "source": [
    "uploadToMapbox(\n",
    "    eez_dir.get_processed_step_path(current_step).joinpath(f\"{collection_name}.mbtiles\"),\n",
    "    collection_name,\n",
    "    mysettings.MAPBOX_USER,\n",
    "    mysettings.MAPBOX_TOKEN,\n",
    ")"
   ]
  },
  {
   "cell_type": "markdown",
   "metadata": {},
   "source": [
    "#### EEZs: Regions"
   ]
  },
  {
   "cell_type": "code",
   "execution_count": 8,
   "metadata": {},
   "outputs": [
    {
     "name": "stderr",
     "output_type": "stream",
     "text": [
      "/tmp/ipykernel_3808474/1407804161.py:34: UserWarning: Column names longer than 10 characters will be truncated when saved to ESRI Shapefile.\n",
      "  ).to_file(\n",
      "/home/sofia/miniforge3/envs/skytruth/lib/python3.12/site-packages/pyogrio/raw.py:709: RuntimeWarning: Normalized/laundered field name: 'location_id' to 'location_i'\n",
      "  ogr_write(\n",
      "/home/sofia/miniforge3/envs/skytruth/lib/python3.12/site-packages/pyogrio/raw.py:709: RuntimeWarning: Value 212881389 of field AREA_KM2 of feature 0 not successfully written. Possibly due to too larger number with respect to field width\n",
      "  ogr_write(\n",
      "Allocating 16 GB of heap memory\n",
      "[dissolve2] Dissolved 282 features into 8 features\n",
      "[o] Wrote /home/sofia/dev/skytruth-30x30/data/data/eez/processed/tiles/regions.json\n"
     ]
    },
    {
     "data": {
      "text/plain": [
       "CompletedProcess(args='mapshaper-xl 16gb -i /home/sofia/dev/skytruth-30x30/data/data/eez/processed/preprocess/eez_preprocess_regions.shp  -dissolve2 fields=region_id -o /home/sofia/dev/skytruth-30x30/data/data/eez/processed/tiles/regions.json force format=geojson', returncode=0)"
      ]
     },
     "execution_count": 8,
     "metadata": {},
     "output_type": "execute_result"
    }
   ],
   "source": [
    "collection_name = \"regions\"\n",
    "\n",
    "# load the EEZ file & the regions file\n",
    "eez_data = gpd.read_file(eez_dir.get_step_fmt_file_path(prev_step, \"shp\").as_posix())\n",
    "\n",
    "\n",
    "with open(scripts_dir.joinpath('data_commons/data/regions_data.json'), 'r') as f:\n",
    "        regions = json.load(f)\n",
    "\n",
    "regions_df = pd.DataFrame(\n",
    "    [\n",
    "        {\n",
    "            \"region_id\": data[\"region_iso\"],\n",
    "            \"name\": data[\"region_name\"],\n",
    "            \"location_id\": iso\n",
    "        }\n",
    "        for data in regions.get(\"data\", [])\n",
    "        for iso in data[\"country_iso_3s\"]\n",
    "    ]\n",
    ")\n",
    "\n",
    "# merge the two files\n",
    "gpd.GeoDataFrame(\n",
    "    pd.merge(\n",
    "        eez_data,\n",
    "        regions_df,\n",
    "        how=\"left\",\n",
    "        left_on=\"ISO_SOV1\",\n",
    "        right_on=\"location_id\",\n",
    "        sort=True,\n",
    "        copy=True,\n",
    "    ),\n",
    "    crs=eez_data.crs,\n",
    ").to_file(\n",
    "    filename=eez_dir.get_processed_step_path(prev_step)\n",
    "    .joinpath(f\"{pipe}_{prev_step}_{collection_name}.shp\")\n",
    "    .as_posix(),\n",
    "    driver=\"ESRI Shapefile\",\n",
    ")\n",
    "\n",
    "# dissolve by region_id\n",
    "\n",
    "Mapshaper(16).input(\n",
    "    [\n",
    "        eez_dir.get_processed_step_path(prev_step)\n",
    "        .joinpath(f\"{pipe}_{prev_step}_{collection_name}.shp\")\n",
    "        .as_posix()\n",
    "    ]\n",
    ").dissolve2(fields=\"region_id\").output(\n",
    "    eez_dir.get_processed_step_path(current_step).joinpath(f\"{collection_name}.json\").as_posix(),\n",
    "    force=True,\n",
    "    format=\"geojson\",\n",
    ").execute()\n",
    "\n"
   ]
  },
  {
   "cell_type": "code",
   "execution_count": 9,
   "metadata": {},
   "outputs": [
    {
     "data": {
      "text/html": [
       "<div>\n",
       "<style scoped>\n",
       "    .dataframe tbody tr th:only-of-type {\n",
       "        vertical-align: middle;\n",
       "    }\n",
       "\n",
       "    .dataframe tbody tr th {\n",
       "        vertical-align: top;\n",
       "    }\n",
       "\n",
       "    .dataframe thead th {\n",
       "        text-align: right;\n",
       "    }\n",
       "</style>\n",
       "<table border=\"1\" class=\"dataframe\">\n",
       "  <thead>\n",
       "    <tr style=\"text-align: right;\">\n",
       "      <th></th>\n",
       "      <th>geometry</th>\n",
       "      <th>region_id</th>\n",
       "      <th>location</th>\n",
       "      <th>name</th>\n",
       "      <th>name_es</th>\n",
       "      <th>name_fr</th>\n",
       "    </tr>\n",
       "  </thead>\n",
       "  <tbody>\n",
       "    <tr>\n",
       "      <th>1</th>\n",
       "      <td>MULTIPOLYGON (((8.26354 -17.25, 8.25715 -17.25...</td>\n",
       "      <td>AF</td>\n",
       "      <td>3.0</td>\n",
       "      <td>Africa</td>\n",
       "      <td>África</td>\n",
       "      <td>Afrique</td>\n",
       "    </tr>\n",
       "    <tr>\n",
       "      <th>2</th>\n",
       "      <td>MULTIPOLYGON (((19.38155 41.99554, 19.38144 41...</td>\n",
       "      <td>EU</td>\n",
       "      <td>6.0</td>\n",
       "      <td>Europe</td>\n",
       "      <td>Europa</td>\n",
       "      <td>Europe</td>\n",
       "    </tr>\n",
       "    <tr>\n",
       "      <th>3</th>\n",
       "      <td>MULTIPOLYGON (((56.37383 24.98043, 56.38053 24...</td>\n",
       "      <td>WA</td>\n",
       "      <td>9.0</td>\n",
       "      <td>Polar</td>\n",
       "      <td>Polar</td>\n",
       "      <td>Polaire</td>\n",
       "    </tr>\n",
       "    <tr>\n",
       "      <th>4</th>\n",
       "      <td>MULTIPOLYGON (((56.37383 24.98043, 56.38053 24...</td>\n",
       "      <td>WA</td>\n",
       "      <td>9.0</td>\n",
       "      <td>West Asia</td>\n",
       "      <td>Asia Occidental</td>\n",
       "      <td>Asie occidentale</td>\n",
       "    </tr>\n",
       "    <tr>\n",
       "      <th>5</th>\n",
       "      <td>MULTIPOLYGON (((-56.77653 -36.29604, -56.7764 ...</td>\n",
       "      <td>SA</td>\n",
       "      <td>8.0</td>\n",
       "      <td>Latin America &amp; Caribbean</td>\n",
       "      <td>América Latina y el Caribe</td>\n",
       "      <td>Amérique latine et Caraïbes</td>\n",
       "    </tr>\n",
       "    <tr>\n",
       "      <th>6</th>\n",
       "      <td>POLYGON ((-180 -70.32232, -180 -84.36012, -179...</td>\n",
       "      <td>AT</td>\n",
       "      <td>5.0</td>\n",
       "      <td>Antartica</td>\n",
       "      <td>Antártida</td>\n",
       "      <td>Antarctique</td>\n",
       "    </tr>\n",
       "    <tr>\n",
       "      <th>7</th>\n",
       "      <td>MULTIPOLYGON (((102.56807 -8.87455, 102.56638 ...</td>\n",
       "      <td>AS</td>\n",
       "      <td>4.0</td>\n",
       "      <td>Asia &amp; Pacific</td>\n",
       "      <td>Asia y Pacífico</td>\n",
       "      <td>Asie et Pacifique</td>\n",
       "    </tr>\n",
       "    <tr>\n",
       "      <th>8</th>\n",
       "      <td>MULTIPOLYGON (((-141 73.39761, -141.01268 73.3...</td>\n",
       "      <td>NA</td>\n",
       "      <td>7.0</td>\n",
       "      <td>North America</td>\n",
       "      <td>América del Norte</td>\n",
       "      <td>Amérique du Nord</td>\n",
       "    </tr>\n",
       "  </tbody>\n",
       "</table>\n",
       "</div>"
      ],
      "text/plain": [
       "                                            geometry region_id  location  \\\n",
       "1  MULTIPOLYGON (((8.26354 -17.25, 8.25715 -17.25...        AF       3.0   \n",
       "2  MULTIPOLYGON (((19.38155 41.99554, 19.38144 41...        EU       6.0   \n",
       "3  MULTIPOLYGON (((56.37383 24.98043, 56.38053 24...        WA       9.0   \n",
       "4  MULTIPOLYGON (((56.37383 24.98043, 56.38053 24...        WA       9.0   \n",
       "5  MULTIPOLYGON (((-56.77653 -36.29604, -56.7764 ...        SA       8.0   \n",
       "6  POLYGON ((-180 -70.32232, -180 -84.36012, -179...        AT       5.0   \n",
       "7  MULTIPOLYGON (((102.56807 -8.87455, 102.56638 ...        AS       4.0   \n",
       "8  MULTIPOLYGON (((-141 73.39761, -141.01268 73.3...        NA       7.0   \n",
       "\n",
       "                        name                     name_es  \\\n",
       "1                     Africa                      África   \n",
       "2                     Europe                      Europa   \n",
       "3                      Polar                       Polar   \n",
       "4                  West Asia             Asia Occidental   \n",
       "5  Latin America & Caribbean  América Latina y el Caribe   \n",
       "6                  Antartica                   Antártida   \n",
       "7             Asia & Pacific             Asia y Pacífico   \n",
       "8              North America           América del Norte   \n",
       "\n",
       "                       name_fr  \n",
       "1                      Afrique  \n",
       "2                       Europe  \n",
       "3                      Polaire  \n",
       "4             Asie occidentale  \n",
       "5  Amérique latine et Caraïbes  \n",
       "6                  Antarctique  \n",
       "7            Asie et Pacifique  \n",
       "8             Amérique du Nord  "
      ]
     },
     "execution_count": 9,
     "metadata": {},
     "output_type": "execute_result"
    }
   ],
   "source": [
    "# Load the JSON data\n",
    "with open(eez_dir.get_processed_step_path(current_step).joinpath(f\"{collection_name}.json\"), 'r') as f:\n",
    "    data = json.load(f)\n",
    "\n",
    "# Create a GeoDataFrame from the JSON data\n",
    "gdf = gpd.GeoDataFrame.from_features(data['features'])\n",
    "\n",
    "# Add names and translations to regions\n",
    "gdf = add_names_and_translations_to_regions(gdf, scripts_dir)\n",
    "\n",
    "gdf"
   ]
  },
  {
   "cell_type": "code",
   "execution_count": 11,
   "metadata": {},
   "outputs": [
    {
     "name": "stderr",
     "output_type": "stream",
     "text": [
      "/home/sofia/miniforge3/envs/skytruth/lib/python3.12/site-packages/pyogrio/raw.py:698: UserWarning: 'crs' was not provided.  The output dataset will not have projection information defined and may not be usable in other systems.\n",
      "  warnings.warn(\n"
     ]
    }
   ],
   "source": [
    "# Save a geojson with extension json\n",
    "gdf.to_file(eez_dir.get_processed_step_path(current_step).joinpath(f\"{collection_name}.json\").as_posix(), driver=\"GeoJSON\")"
   ]
  },
  {
   "cell_type": "code",
   "execution_count": 68,
   "metadata": {},
   "outputs": [
    {
     "name": "stderr",
     "output_type": "stream",
     "text": [
      "For layer 0, using name \"regions\"\n",
      "/home/sofia/dev/skytruth-30x30/data/data/eez/processed/tiles/regions.json:2: Found ] at top level: \n",
      "/home/sofia/dev/skytruth-30x30/data/data/eez/processed/tiles/regions.json:5: Reached EOF without all containers being closed: in JSON object {\"type\":\"FeatureCollection\",\"name\":\"regions\",\"features\":[]}\n",
      "8 features, 57364566 bytes of geometry, 608 bytes of string pool\n",
      "Choosing a maxzoom of -z0 for features typically 39965448 feet (12181468 meters) apart, and at least 22706313 feet (6920884 meters) apart\n",
      "Choosing a maxzoom of -z9 for resolution of about 854 feet (260 meters) within features\n",
      "  99.9%  9/257/169  \n"
     ]
    },
    {
     "data": {
      "text/plain": [
       "PosixPath('/home/sofia/dev/skytruth-30x30/data/data/eez/processed/tiles/regions.mbtiles')"
      ]
     },
     "execution_count": 68,
     "metadata": {},
     "output_type": "execute_result"
    }
   ],
   "source": [
    "# generate the mbtiles\n",
    "mbtileGeneration(eez_dir.get_processed_step_path(current_step).joinpath(f\"{collection_name}.json\"))"
   ]
  },
  {
   "cell_type": "code",
   "execution_count": 69,
   "metadata": {},
   "outputs": [
    {
     "name": "stdout",
     "output_type": "stream",
     "text": [
      "upload: data/eez/processed/tiles/regions.mbtiles to s3://tilestream-tilesets-production/67/_pending/nqa72cxynns1wzq1v6pp332mc/skytruth\n"
     ]
    },
    {
     "name": "stderr",
     "output_type": "stream",
     "text": [
      "Linking tileset to Mapbox: 100%|███████████████████████████████████████████████████████████████████████████████████████████████████| 100/100 [02:14<00:00,  1.35s/it]\n"
     ]
    },
    {
     "data": {
      "text/plain": [
       "True"
      ]
     },
     "execution_count": 69,
     "metadata": {},
     "output_type": "execute_result"
    }
   ],
   "source": [
    "uploadToMapbox(\n",
    "    eez_dir.get_processed_step_path(current_step).joinpath(f\"{collection_name}.mbtiles\"),\n",
    "    collection_name,\n",
    "    mysettings.MAPBOX_USER,\n",
    "    mysettings.MAPBOX_TOKEN,\n",
    ")"
   ]
  },
  {
   "cell_type": "markdown",
   "metadata": {
    "jp-MarkdownHeadingCollapsed": true
   },
   "source": [
    "### Countries - gadm"
   ]
  },
  {
   "cell_type": "code",
   "execution_count": 3,
   "metadata": {},
   "outputs": [
    {
     "name": "stdout",
     "output_type": "stream",
     "text": [
      "/home/sofia/dev/skytruth-30x30/data/data/gadm/processed/gadm_preprocess.zip\n",
      "/home/sofia/dev/skytruth-30x30/data/data/gadm/processed/preprocess\n"
     ]
    },
    {
     "name": "stderr",
     "output_type": "stream",
     "text": [
      "Allocating 64 GB of heap memory\n",
      "[o] Wrote /home/sofia/dev/skytruth-30x30/data/data/gadm/processed/tiles/gadm_tiles.json\n",
      "For layer 0, using name \"gadm_tiles\"\n",
      "/home/sofia/dev/skytruth-30x30/data/data/gadm/processed/tiles/gadm_tiles.json:12: Found ] at top level: \n",
      "/home/sofia/dev/skytruth-30x30/data/data/gadm/processed/tiles/gadm_tiles.json:9: Reached EOF without all containers being closed: in JSON object {\"type\":\"FeatureCollection\",\"features\":[]}\n",
      "204 features, 104203392 bytes of geometry, 9732 bytes of string pool\n",
      "Choosing a maxzoom of -z0 for features typically 2730281 feet (832190 meters) apart, and at least 605951 feet (184694 meters) apart\n",
      "Choosing a maxzoom of -z9 for resolution of about 590 feet (180 meters) within features\n",
      "  99.9%  9/146/198  \n"
     ]
    },
    {
     "data": {
      "text/plain": [
       "PosixPath('/home/sofia/dev/skytruth-30x30/data/data/gadm/processed/tiles/gadm_simplified.mbtiles')"
      ]
     },
     "execution_count": 3,
     "metadata": {},
     "output_type": "execute_result"
    }
   ],
   "source": [
    "pipe = \"gadm\"\n",
    "collection_name = f\"{pipe}_simplified\"\n",
    "\n",
    "gadm_dir = FileConventionHandler(pipe)\n",
    "\n",
    "# Download the EEZ file && unzip it\n",
    "download_and_unzip_if_needed(gadm_dir, prev_step, mysettings)\n",
    "\n",
    "# simplify the geometries\n",
    "Mapshaper(64).input([gadm_dir.get_step_fmt_file_path(prev_step, \"shp\").as_posix()]).filter_fields(\n",
    "    fields=\",\".join([\"GID_0\", \"COUNTRY\", \"name_es\", \"name_fr\", 'area_km2'])\n",
    ").output(\n",
    "    gadm_dir.get_step_fmt_file_path(current_step, \"json\").as_posix(), force=True, format=\"geojson\"\n",
    ").execute()\n",
    "\n",
    "# Generate the mbtiles\n",
    "mbtileGeneration(\n",
    "    gadm_dir.get_step_fmt_file_path(current_step, \"json\"),\n",
    "    gadm_dir.get_processed_step_path(current_step).joinpath(f\"{collection_name}.mbtiles\"),\n",
    "    True\n",
    ")"
   ]
  },
  {
   "cell_type": "code",
   "execution_count": 10,
   "metadata": {},
   "outputs": [
    {
     "name": "stdout",
     "output_type": "stream",
     "text": [
      "upload: data/gadm/processed/tiles/gadm_simplified.mbtiles to s3://tilestream-tilesets-production/96/_pending/y008s4k96pt1elm0ek7for1mc/skytruth\n"
     ]
    },
    {
     "name": "stderr",
     "output_type": "stream",
     "text": [
      "Linking tileset to Mapbox: 100%|█████████████████████████████████████████████████████████████████████████████████████████████████████████████████| 100/100 [02:41<00:00,  1.61s/it]\n"
     ]
    },
    {
     "data": {
      "text/plain": [
       "True"
      ]
     },
     "execution_count": 10,
     "metadata": {},
     "output_type": "execute_result"
    }
   ],
   "source": [
    "uploadToMapbox(\n",
    "    gadm_dir.get_processed_step_path(current_step).joinpath(f\"{collection_name}.mbtiles\"),\n",
    "    collection_name,\n",
    "    mysettings.MAPBOX_USER,\n",
    "    mysettings.MAPBOX_TOKEN,\n",
    ")"
   ]
  },
  {
   "cell_type": "markdown",
   "metadata": {},
   "source": [
    "#### Gadm regions"
   ]
  },
  {
   "cell_type": "code",
   "execution_count": 14,
   "metadata": {},
   "outputs": [
    {
     "name": "stderr",
     "output_type": "stream",
     "text": [
      "/tmp/ipykernel_3808474/4011450268.py:35: UserWarning: Column names longer than 10 characters will be truncated when saved to ESRI Shapefile.\n",
      "  ).to_file(\n",
      "/home/sofia/miniforge3/envs/skytruth/lib/python3.12/site-packages/pyogrio/raw.py:709: RuntimeWarning: Normalized/laundered field name: 'location_id' to 'location_i'\n",
      "  ogr_write(\n",
      "Allocating 16 GB of heap memory\n",
      "[dissolve2] Dissolved 204 features into 8 features\n",
      "[o] Wrote /home/sofia/dev/skytruth-30x30/data/data/gadm/processed/tiles/gadm_regions.json\n"
     ]
    },
    {
     "data": {
      "text/plain": [
       "CompletedProcess(args='mapshaper-xl 16gb -i /home/sofia/dev/skytruth-30x30/data/data/gadm/processed/preprocess/gadm_preprocess_gadm_regions.shp  -dissolve2 fields=region_id -o /home/sofia/dev/skytruth-30x30/data/data/gadm/processed/tiles/gadm_regions.json force format=geojson', returncode=0)"
      ]
     },
     "execution_count": 14,
     "metadata": {},
     "output_type": "execute_result"
    }
   ],
   "source": [
    "pipe = \"gadm\"\n",
    "gadm_dir = FileConventionHandler(pipe)\n",
    "collection_name = \"gadm_regions\"\n",
    "\n",
    "gadm_data = gpd.read_file(gadm_dir.get_step_fmt_file_path(prev_step, \"shp\").as_posix()).drop(columns=['name_es', 'name_fr'])\n",
    "\n",
    "with open(scripts_dir.joinpath('data_commons/data/regions_data.json'), 'r') as f:\n",
    "        regions = json.load(f)\n",
    "\n",
    "\n",
    "regions_df = pd.DataFrame(\n",
    "    [\n",
    "        {\n",
    "            \"region_id\": data[\"region_iso\"],\n",
    "            \"name\": data[\"region_name\"],\n",
    "            \"location_id\": iso\n",
    "        }\n",
    "        for data in regions.get(\"data\", [])\n",
    "        for iso in data[\"country_iso_3s\"]\n",
    "    ]\n",
    ")\n",
    "\n",
    "# merge the two files\n",
    "gpd.GeoDataFrame(\n",
    "    pd.merge(\n",
    "        gadm_data,\n",
    "        regions_df,\n",
    "        how=\"left\",\n",
    "        left_on=\"GID_0\",\n",
    "        right_on=\"location_id\",\n",
    "        sort=True,\n",
    "        copy=True,\n",
    "    ),\n",
    "    crs=gadm_data.crs,\n",
    ").to_file(\n",
    "    filename=gadm_dir.get_processed_step_path(prev_step)\n",
    "    .joinpath(f\"{pipe}_{prev_step}_{collection_name}.shp\")\n",
    "    .as_posix(),\n",
    "    driver=\"ESRI Shapefile\",\n",
    ")\n",
    "\n",
    "# dissolve by region_id \n",
    "Mapshaper(16).input(\n",
    "    [\n",
    "        gadm_dir.get_processed_step_path(prev_step)\n",
    "        .joinpath(f\"{pipe}_{prev_step}_{collection_name}.shp\")\n",
    "        .as_posix()\n",
    "    ]\n",
    ").dissolve2(fields=\"region_id\").output(\n",
    "    gadm_dir.get_processed_step_path(current_step).joinpath(f\"{collection_name}.json\").as_posix(),\n",
    "    force=True,\n",
    "    format=\"geojson\",\n",
    ").execute()\n"
   ]
  },
  {
   "cell_type": "code",
   "execution_count": 15,
   "metadata": {},
   "outputs": [
    {
     "data": {
      "text/html": [
       "<div>\n",
       "<style scoped>\n",
       "    .dataframe tbody tr th:only-of-type {\n",
       "        vertical-align: middle;\n",
       "    }\n",
       "\n",
       "    .dataframe tbody tr th {\n",
       "        vertical-align: top;\n",
       "    }\n",
       "\n",
       "    .dataframe thead th {\n",
       "        text-align: right;\n",
       "    }\n",
       "</style>\n",
       "<table border=\"1\" class=\"dataframe\">\n",
       "  <thead>\n",
       "    <tr style=\"text-align: right;\">\n",
       "      <th></th>\n",
       "      <th>geometry</th>\n",
       "      <th>region_id</th>\n",
       "      <th>location</th>\n",
       "      <th>name</th>\n",
       "      <th>name_es</th>\n",
       "      <th>name_fr</th>\n",
       "    </tr>\n",
       "  </thead>\n",
       "  <tbody>\n",
       "    <tr>\n",
       "      <th>0</th>\n",
       "      <td>MULTIPOLYGON (((61.283 35.609, 61.277 35.613, ...</td>\n",
       "      <td>AS</td>\n",
       "      <td>4.0</td>\n",
       "      <td>Asia &amp; Pacific</td>\n",
       "      <td>Asia y Pacífico</td>\n",
       "      <td>Asie et Pacifique</td>\n",
       "    </tr>\n",
       "    <tr>\n",
       "      <th>1</th>\n",
       "      <td>MULTIPOLYGON (((11.786 -16.78, 11.789 -16.775,...</td>\n",
       "      <td>AF</td>\n",
       "      <td>3.0</td>\n",
       "      <td>Africa</td>\n",
       "      <td>África</td>\n",
       "      <td>Afrique</td>\n",
       "    </tr>\n",
       "    <tr>\n",
       "      <th>2</th>\n",
       "      <td>MULTIPOLYGON (((19.278 40.505, 19.276 40.51, 1...</td>\n",
       "      <td>EU</td>\n",
       "      <td>6.0</td>\n",
       "      <td>Europe</td>\n",
       "      <td>Europa</td>\n",
       "      <td>Europe</td>\n",
       "    </tr>\n",
       "    <tr>\n",
       "      <th>3</th>\n",
       "      <td>MULTIPOLYGON (((52.444 24.107, 52.444 24.108, ...</td>\n",
       "      <td>WA</td>\n",
       "      <td>9.0</td>\n",
       "      <td>Polar</td>\n",
       "      <td>Polar</td>\n",
       "      <td>Polaire</td>\n",
       "    </tr>\n",
       "    <tr>\n",
       "      <th>4</th>\n",
       "      <td>MULTIPOLYGON (((52.444 24.107, 52.444 24.108, ...</td>\n",
       "      <td>WA</td>\n",
       "      <td>9.0</td>\n",
       "      <td>West Asia</td>\n",
       "      <td>Asia Occidental</td>\n",
       "      <td>Asie occidentale</td>\n",
       "    </tr>\n",
       "    <tr>\n",
       "      <th>5</th>\n",
       "      <td>MULTIPOLYGON (((-68.688 -52.61, -68.688 -52.61...</td>\n",
       "      <td>SA</td>\n",
       "      <td>8.0</td>\n",
       "      <td>Latin America &amp; Caribbean</td>\n",
       "      <td>América Latina y el Caribe</td>\n",
       "      <td>Amérique latine et Caraïbes</td>\n",
       "    </tr>\n",
       "    <tr>\n",
       "      <th>6</th>\n",
       "      <td>MULTIPOLYGON (((-169.027 -83.619, -169.029 -83...</td>\n",
       "      <td>AT</td>\n",
       "      <td>5.0</td>\n",
       "      <td>Antartica</td>\n",
       "      <td>Antártida</td>\n",
       "      <td>Antarctique</td>\n",
       "    </tr>\n",
       "    <tr>\n",
       "      <th>7</th>\n",
       "      <td>MULTIPOLYGON (((-135.117 68.473, -135.119 68.4...</td>\n",
       "      <td>NA</td>\n",
       "      <td>7.0</td>\n",
       "      <td>North America</td>\n",
       "      <td>América del Norte</td>\n",
       "      <td>Amérique du Nord</td>\n",
       "    </tr>\n",
       "  </tbody>\n",
       "</table>\n",
       "</div>"
      ],
      "text/plain": [
       "                                            geometry region_id  location  \\\n",
       "0  MULTIPOLYGON (((61.283 35.609, 61.277 35.613, ...        AS       4.0   \n",
       "1  MULTIPOLYGON (((11.786 -16.78, 11.789 -16.775,...        AF       3.0   \n",
       "2  MULTIPOLYGON (((19.278 40.505, 19.276 40.51, 1...        EU       6.0   \n",
       "3  MULTIPOLYGON (((52.444 24.107, 52.444 24.108, ...        WA       9.0   \n",
       "4  MULTIPOLYGON (((52.444 24.107, 52.444 24.108, ...        WA       9.0   \n",
       "5  MULTIPOLYGON (((-68.688 -52.61, -68.688 -52.61...        SA       8.0   \n",
       "6  MULTIPOLYGON (((-169.027 -83.619, -169.029 -83...        AT       5.0   \n",
       "7  MULTIPOLYGON (((-135.117 68.473, -135.119 68.4...        NA       7.0   \n",
       "\n",
       "                        name                     name_es  \\\n",
       "0             Asia & Pacific             Asia y Pacífico   \n",
       "1                     Africa                      África   \n",
       "2                     Europe                      Europa   \n",
       "3                      Polar                       Polar   \n",
       "4                  West Asia             Asia Occidental   \n",
       "5  Latin America & Caribbean  América Latina y el Caribe   \n",
       "6                  Antartica                   Antártida   \n",
       "7              North America           América del Norte   \n",
       "\n",
       "                       name_fr  \n",
       "0            Asie et Pacifique  \n",
       "1                      Afrique  \n",
       "2                       Europe  \n",
       "3                      Polaire  \n",
       "4             Asie occidentale  \n",
       "5  Amérique latine et Caraïbes  \n",
       "6                  Antarctique  \n",
       "7             Amérique du Nord  "
      ]
     },
     "execution_count": 15,
     "metadata": {},
     "output_type": "execute_result"
    }
   ],
   "source": [
    "# Load the JSON data\n",
    "with open(gadm_dir.get_processed_step_path(current_step).joinpath(f\"{collection_name}.json\"), 'r') as f:\n",
    "    data = json.load(f)\n",
    "\n",
    "# Create a GeoDataFrame from the JSON data\n",
    "gdf = gpd.GeoDataFrame.from_features(data['features'])\n",
    "\n",
    "# Add names and translations to regions\n",
    "gdf = add_names_and_translations_to_regions(gdf, scripts_dir)\n",
    "\n",
    "gdf"
   ]
  },
  {
   "cell_type": "code",
   "execution_count": 16,
   "metadata": {},
   "outputs": [
    {
     "name": "stderr",
     "output_type": "stream",
     "text": [
      "/home/sofia/miniforge3/envs/skytruth/lib/python3.12/site-packages/pyogrio/raw.py:698: UserWarning: 'crs' was not provided.  The output dataset will not have projection information defined and may not be usable in other systems.\n",
      "  warnings.warn(\n"
     ]
    }
   ],
   "source": [
    "# Save a geojson with extension json\n",
    "gdf.to_file(gadm_dir.get_processed_step_path(current_step).joinpath(f\"{collection_name}.json\").as_posix(), driver=\"GeoJSON\")"
   ]
  },
  {
   "cell_type": "code",
   "execution_count": 36,
   "metadata": {},
   "outputs": [
    {
     "name": "stderr",
     "output_type": "stream",
     "text": [
      "For layer 0, using name \"gadm_regions\"\n",
      "/home/sofia/dev/skytruth-30x30/data/data/gadm/processed/tiles/gadm_regions.json:2: Found ] at top level: \n",
      "/home/sofia/dev/skytruth-30x30/data/data/gadm/processed/tiles/gadm_regions.json:5: Reached EOF without all containers being closed: in JSON object {\"type\":\"FeatureCollection\",\"name\":\"gadm_regions\",\"features\":[]}\n",
      "8 features, 100618534 bytes of geometry, 705 bytes of string pool\n",
      "Choosing a maxzoom of -z0 for features typically 25606995 feet (7805012 meters) apart, and at least 12085379 feet (3683624 meters) apart\n",
      "Choosing a maxzoom of -z9 for resolution of about 557 feet (170 meters) within features\n",
      "  99.9%  9/439/254  \n"
     ]
    },
    {
     "data": {
      "text/plain": [
       "PosixPath('/home/sofia/dev/skytruth-30x30/data/data/gadm/processed/tiles/gadm_regions.mbtiles')"
      ]
     },
     "execution_count": 36,
     "metadata": {},
     "output_type": "execute_result"
    }
   ],
   "source": [
    "# generate the mbtiles\n",
    "mbtileGeneration(gadm_dir.get_processed_step_path(current_step).joinpath(f\"{collection_name}.json\"))"
   ]
  },
  {
   "cell_type": "code",
   "execution_count": 37,
   "metadata": {},
   "outputs": [
    {
     "name": "stdout",
     "output_type": "stream",
     "text": [
      "upload: data/gadm/processed/tiles/gadm_regions.mbtiles to s3://tilestream-tilesets-production/4d/_pending/849nr2jzhpt1m5c3rt55232mc/skytruth\n"
     ]
    },
    {
     "name": "stderr",
     "output_type": "stream",
     "text": [
      "Linking tileset to Mapbox: 100%|███████████████████████████████████████████████████████████████████████████████████████████████████| 100/100 [02:25<00:00,  1.45s/it]\n"
     ]
    },
    {
     "data": {
      "text/plain": [
       "True"
      ]
     },
     "execution_count": 37,
     "metadata": {},
     "output_type": "execute_result"
    }
   ],
   "source": [
    "uploadToMapbox(\n",
    "    gadm_dir.get_processed_step_path(current_step).joinpath(f\"{collection_name}.mbtiles\"),\n",
    "    collection_name,\n",
    "    mysettings.MAPBOX_USER,\n",
    "    mysettings.MAPBOX_TOKEN,\n",
    ")"
   ]
  },
  {
   "cell_type": "markdown",
   "metadata": {
    "jp-MarkdownHeadingCollapsed": true
   },
   "source": [
    "### MPAs: Marine Protected Areas from WDPA"
   ]
  },
  {
   "cell_type": "code",
   "execution_count": null,
   "metadata": {},
   "outputs": [],
   "source": [
    "pipe = \"mpa\"\n",
    "collection_name = \"mpas_wdpa\"\n",
    "\n",
    "source_dir = FileConventionHandler(pipe)\n",
    "\n",
    "# Download the EEZ file && unzip it\n",
    "download_and_unzip_if_needed(source_dir, prev_step, mysettings)\n",
    "\n",
    "# simplify the geometries\n",
    "Mapshaper(64).input([source_dir.get_step_fmt_file_path(prev_step, \"shp\").as_posix()]).filter_fields(\n",
    "    fields=\"WDPAID,NAME,PA_DEF,GIS_M_AREA,PARENT_ISO\"\n",
    ").clean(allow_overlaps=True, rewind=True).simplify(\"dp 10% keep-shapes planar\").clean(\n",
    "    allow_overlaps=True\n",
    ").output(\n",
    "    source_dir.get_step_fmt_file_path(current_step, \"json\").as_posix(), force=True, format=\"geojson\"\n",
    ").execute()\n",
    "\n",
    "# generate the mbtiles\n",
    "mbtileGeneration(source_dir.get_step_fmt_file_path(current_step, \"json\"))"
   ]
  },
  {
   "cell_type": "code",
   "execution_count": 10,
   "metadata": {},
   "outputs": [
    {
     "name": "stdout",
     "output_type": "stream",
     "text": [
      "upload: ../../data/mpa/processed/tiles/mpa_tiles.mbtiles to s3://tilestream-tilesets-production/de/_pending/yvng0dxxxru12eq9ye80350mc/skytruth\n"
     ]
    },
    {
     "name": "stderr",
     "output_type": "stream",
     "text": [
      "Linking tileset to Mapbox: 100%|██████████| 100/100 [02:34<00:00,  1.54s/it]\n"
     ]
    },
    {
     "data": {
      "text/plain": [
       "True"
      ]
     },
     "execution_count": 10,
     "metadata": {},
     "output_type": "execute_result"
    }
   ],
   "source": [
    "uploadToMapbox(\n",
    "    source_dir.get_step_fmt_file_path(current_step, \"mbtiles\"),\n",
    "    collection_name,\n",
    "    mysettings.MAPBOX_USER,\n",
    "    mysettings.MAPBOX_TOKEN,\n",
    ")"
   ]
  },
  {
   "cell_type": "markdown",
   "metadata": {
    "jp-MarkdownHeadingCollapsed": true
   },
   "source": [
    "### PAs: Terrestrial Protected Areas from WDPA"
   ]
  },
  {
   "cell_type": "code",
   "execution_count": 3,
   "metadata": {},
   "outputs": [],
   "source": [
    "pipe = \"mpa-terrestrial\"\n",
    "collection_name = \"pas_wdpa\"\n",
    "\n",
    "source_dir = FileConventionHandler(pipe)"
   ]
  },
  {
   "cell_type": "code",
   "execution_count": 4,
   "metadata": {},
   "outputs": [
    {
     "name": "stdout",
     "output_type": "stream",
     "text": [
      "/home/sofia/dev/skytruth-30x30/data/data/mpa-terrestrial/processed/mpa-terrestrial_preprocess.gpkg\n",
      "/home/sofia/dev/skytruth-30x30/data/data/mpa-terrestrial/processed/preprocess\n"
     ]
    }
   ],
   "source": [
    "# Download the file && unzip it\n",
    "download_and_unzip_if_needed(source_dir, prev_step, mysettings, \"gpkg\")\n",
    "\n",
    "# split the file in two parts\n",
    "wdpa = gpd.read_file(source_dir.get_step_fmt_file_path(prev_step, \"gpkg\").as_posix())"
   ]
  },
  {
   "cell_type": "code",
   "execution_count": 5,
   "metadata": {},
   "outputs": [],
   "source": [
    "# Divide the dataset into n parts\n",
    "n_parts = 100\n",
    "\n",
    "in_folder = source_dir.get_processed_step_path(prev_step).joinpath(\"parts\")\n",
    "in_folder.mkdir(exist_ok=True, parents=True)\n",
    "folders = split_n_parts(wdpa, in_folder, n_parts)\n",
    "\n",
    "out_folder = source_dir.get_processed_step_path(current_step).joinpath(\"parts\")\n",
    "out_folder.mkdir(exist_ok=True, parents=True)"
   ]
  },
  {
   "cell_type": "code",
   "execution_count": 6,
   "metadata": {},
   "outputs": [
    {
     "name": "stdout",
     "output_type": "stream",
     "text": [
      "Allocating 32 GB of heap memory\n",
      "[clean] Retained 2,922 of 2,922 features\n",
      "[simplify] Repaired 5,750 intersections; 20 intersections could not be repaired\n",
      "[clean] Retained 2,922 of 2,922 features\n",
      "[o] Wrote /home/sofia/dev/skytruth-30x30/data/data/mpa-terrestrial/processed/tiles/parts/part0.json\n",
      "Allocating 32 GB of heap memory\n",
      "[clean] Retained 2,922 of 2,922 features\n",
      "[simplify] Repaired 187 intersections\n",
      "[clean] Retained 2,922 of 2,922 features\n",
      "[o] Wrote /home/sofia/dev/skytruth-30x30/data/data/mpa-terrestrial/processed/tiles/parts/part10.json\n",
      "Allocating 32 GB of heap memory\n",
      "[clean] Retained 2,923 of 2,923 features\n",
      "[simplify] Repaired 220 intersections\n",
      "[clean] Retained 2,923 of 2,923 features\n",
      "[o] Wrote /home/sofia/dev/skytruth-30x30/data/data/mpa-terrestrial/processed/tiles/parts/part11.json\n",
      "Allocating 32 GB of heap memory\n",
      "[clean] Retained 2,922 of 2,922 features\n",
      "[simplify] Repaired 528 intersections; 16 intersections could not be repaired\n",
      "[clean] Retained 2,922 of 2,922 features\n",
      "[o] Wrote /home/sofia/dev/skytruth-30x30/data/data/mpa-terrestrial/processed/tiles/parts/part12.json\n",
      "Allocating 32 GB of heap memory\n",
      "[clean] Retained 2,923 of 2,923 features\n",
      "[simplify] Repaired 3,550 intersections; 24 intersections could not be repaired\n",
      "[clean] Retained 2,923 of 2,923 features\n",
      "[o] Wrote /home/sofia/dev/skytruth-30x30/data/data/mpa-terrestrial/processed/tiles/parts/part13.json\n",
      "Allocating 32 GB of heap memory\n",
      "[clean] Retained 2,923 of 2,923 features\n",
      "[simplify] Repaired 923 intersections; 32 intersections could not be repaired\n",
      "[clean] Retained 2,923 of 2,923 features\n",
      "[o] Wrote /home/sofia/dev/skytruth-30x30/data/data/mpa-terrestrial/processed/tiles/parts/part14.json\n",
      "Allocating 32 GB of heap memory\n",
      "[clean] Retained 2,922 of 2,922 features\n",
      "[simplify] Repaired 2,285 intersections; 8 intersections could not be repaired\n",
      "[clean] Retained 2,922 of 2,922 features\n",
      "[o] Wrote /home/sofia/dev/skytruth-30x30/data/data/mpa-terrestrial/processed/tiles/parts/part15.json\n",
      "Allocating 32 GB of heap memory\n",
      "[clean] Retained 2,923 of 2,923 features\n",
      "[simplify] Repaired 729 intersections; 16 intersections could not be repaired\n",
      "[clean] Retained 2,923 of 2,923 features\n",
      "[o] Wrote /home/sofia/dev/skytruth-30x30/data/data/mpa-terrestrial/processed/tiles/parts/part16.json\n",
      "Allocating 32 GB of heap memory\n",
      "[clean] Retained 2,922 of 2,922 features\n",
      "[simplify] Repaired 478 intersections\n",
      "[clean] Retained 2,922 of 2,922 features\n",
      "[o] Wrote /home/sofia/dev/skytruth-30x30/data/data/mpa-terrestrial/processed/tiles/parts/part17.json\n",
      "Allocating 32 GB of heap memory\n",
      "[clean] Retained 2,923 of 2,923 features\n",
      "[simplify] Repaired 1,075 intersections; 32 intersections could not be repaired\n",
      "[clean] Retained 2,923 of 2,923 features\n",
      "[o] Wrote /home/sofia/dev/skytruth-30x30/data/data/mpa-terrestrial/processed/tiles/parts/part18.json\n",
      "Allocating 32 GB of heap memory\n",
      "[clean] Retained 2,923 of 2,923 features\n",
      "[simplify] Repaired 3,403 intersections; 8 intersections could not be repaired\n",
      "[clean] Retained 2,923 of 2,923 features\n",
      "[o] Wrote /home/sofia/dev/skytruth-30x30/data/data/mpa-terrestrial/processed/tiles/parts/part19.json\n",
      "Allocating 32 GB of heap memory\n",
      "[clean] Retained 2,923 of 2,923 features\n",
      "[simplify] Repaired 9,030 intersections; 56 intersections could not be repaired\n",
      "[clean] Retained 2,923 of 2,923 features\n",
      "[o] Wrote /home/sofia/dev/skytruth-30x30/data/data/mpa-terrestrial/processed/tiles/parts/part1.json\n",
      "Allocating 32 GB of heap memory\n",
      "[clean] Retained 2,922 of 2,922 features\n",
      "[simplify] Repaired 4,116 intersections; 17 intersections could not be repaired\n",
      "[clean] Retained 2,922 of 2,922 features\n",
      "[o] Wrote /home/sofia/dev/skytruth-30x30/data/data/mpa-terrestrial/processed/tiles/parts/part20.json\n",
      "Allocating 32 GB of heap memory\n",
      "[clean] Retained 2,923 of 2,923 features\n",
      "[simplify] Repaired 1,174 intersections; 8 intersections could not be repaired\n",
      "[clean] Retained 2,923 of 2,923 features\n",
      "[o] Wrote /home/sofia/dev/skytruth-30x30/data/data/mpa-terrestrial/processed/tiles/parts/part21.json\n",
      "Allocating 32 GB of heap memory\n",
      "[clean] Retained 2,923 of 2,923 features\n",
      "[simplify] Repaired 1,508 intersections; 75 intersections could not be repaired\n",
      "[clean] Retained 2,923 of 2,923 features\n",
      "[o] Wrote /home/sofia/dev/skytruth-30x30/data/data/mpa-terrestrial/processed/tiles/parts/part22.json\n",
      "Allocating 32 GB of heap memory\n",
      "[clean] Retained 2,922 of 2,922 features\n",
      "[simplify] Repaired 1,747 intersections; 288 intersections could not be repaired\n",
      "[clean] Retained 2,922 of 2,922 features\n",
      "[o] Wrote /home/sofia/dev/skytruth-30x30/data/data/mpa-terrestrial/processed/tiles/parts/part23.json\n",
      "Allocating 32 GB of heap memory\n",
      "[clean] Retained 2,923 of 2,923 features\n",
      "[simplify] Repaired 996 intersections; 100 intersections could not be repaired\n",
      "[clean] Retained 2,923 of 2,923 features\n",
      "[o] Wrote /home/sofia/dev/skytruth-30x30/data/data/mpa-terrestrial/processed/tiles/parts/part24.json\n",
      "Allocating 32 GB of heap memory\n",
      "[clean] Retained 2,922 of 2,922 features\n",
      "[simplify] Repaired 976 intersections; 11 intersections could not be repaired\n",
      "[clean] Retained 2,922 of 2,922 features\n",
      "[o] Wrote /home/sofia/dev/skytruth-30x30/data/data/mpa-terrestrial/processed/tiles/parts/part25.json\n",
      "Allocating 32 GB of heap memory\n",
      "[clean] Retained 2,923 of 2,923 features\n",
      "[simplify] Repaired 2,273 intersections; 200 intersections could not be repaired\n",
      "[clean] Retained 2,923 of 2,923 features\n",
      "[o] Wrote /home/sofia/dev/skytruth-30x30/data/data/mpa-terrestrial/processed/tiles/parts/part26.json\n",
      "Allocating 32 GB of heap memory\n",
      "[clean] Retained 2,923 of 2,923 features\n",
      "[simplify] Repaired 1,467 intersections; 8 intersections could not be repaired\n",
      "[clean] Retained 2,923 of 2,923 features\n",
      "[o] Wrote /home/sofia/dev/skytruth-30x30/data/data/mpa-terrestrial/processed/tiles/parts/part27.json\n",
      "Allocating 32 GB of heap memory\n",
      "[clean] Retained 2,922 of 2,922 features\n",
      "[simplify] Repaired 2,922 intersections; 110 intersections could not be repaired\n",
      "[clean] Retained 2,922 of 2,922 features\n",
      "[o] Wrote /home/sofia/dev/skytruth-30x30/data/data/mpa-terrestrial/processed/tiles/parts/part28.json\n",
      "Allocating 32 GB of heap memory\n",
      "[clean] Retained 2,923 of 2,923 features\n",
      "[simplify] Repaired 1,246 intersections\n",
      "[clean] Retained 2,923 of 2,923 features\n",
      "[o] Wrote /home/sofia/dev/skytruth-30x30/data/data/mpa-terrestrial/processed/tiles/parts/part29.json\n",
      "Allocating 32 GB of heap memory\n",
      "[clean] Retained 2,922 of 2,922 features\n",
      "[simplify] Repaired 2,041 intersections; 72 intersections could not be repaired\n",
      "[clean] Retained 2,922 of 2,922 features\n",
      "[o] Wrote /home/sofia/dev/skytruth-30x30/data/data/mpa-terrestrial/processed/tiles/parts/part2.json\n",
      "Allocating 32 GB of heap memory\n",
      "[clean] Retained 2,922 of 2,922 features\n",
      "[simplify] Repaired 77 intersections\n",
      "[clean] Retained 2,922 of 2,922 features\n",
      "[o] Wrote /home/sofia/dev/skytruth-30x30/data/data/mpa-terrestrial/processed/tiles/parts/part30.json\n",
      "Allocating 32 GB of heap memory\n",
      "[clean] Retained 2,923 of 2,923 features\n",
      "[simplify] Repaired 813 intersections; 40 intersections could not be repaired\n",
      "[clean] Retained 2,923 of 2,923 features\n",
      "[o] Wrote /home/sofia/dev/skytruth-30x30/data/data/mpa-terrestrial/processed/tiles/parts/part31.json\n",
      "Allocating 32 GB of heap memory\n",
      "[clean] Retained 2,923 of 2,923 features\n",
      "[simplify] Repaired 1,540 intersections; 128 intersections could not be repaired\n",
      "[clean] Retained 2,923 of 2,923 features\n",
      "[o] Wrote /home/sofia/dev/skytruth-30x30/data/data/mpa-terrestrial/processed/tiles/parts/part32.json\n",
      "Allocating 32 GB of heap memory\n",
      "[clean] Retained 2,922 of 2,922 features\n",
      "[simplify] Repaired 1,761 intersections; 27 intersections could not be repaired\n",
      "[clean] Retained 2,922 of 2,922 features\n",
      "[o] Wrote /home/sofia/dev/skytruth-30x30/data/data/mpa-terrestrial/processed/tiles/parts/part33.json\n",
      "Allocating 32 GB of heap memory\n",
      "[clean] Retained 2,923 of 2,923 features\n",
      "[simplify] Repaired 471 intersections\n",
      "[clean] Retained 2,923 of 2,923 features\n",
      "[o] Wrote /home/sofia/dev/skytruth-30x30/data/data/mpa-terrestrial/processed/tiles/parts/part34.json\n",
      "Allocating 32 GB of heap memory\n",
      "[clean] Retained 2,922 of 2,922 features\n",
      "[simplify] Repaired 3,212 intersections; 8 intersections could not be repaired\n",
      "[clean] Retained 2,922 of 2,922 features\n",
      "[o] Wrote /home/sofia/dev/skytruth-30x30/data/data/mpa-terrestrial/processed/tiles/parts/part35.json\n",
      "Allocating 32 GB of heap memory\n",
      "[clean] Retained 2,923 of 2,923 features\n",
      "[simplify] Repaired 2,303 intersections; 68 intersections could not be repaired\n",
      "[clean] Retained 2,923 of 2,923 features\n",
      "[o] Wrote /home/sofia/dev/skytruth-30x30/data/data/mpa-terrestrial/processed/tiles/parts/part36.json\n",
      "Allocating 32 GB of heap memory\n",
      "[clean] Retained 2,923 of 2,923 features\n",
      "[simplify] Repaired 700 intersections; 16 intersections could not be repaired\n",
      "[clean] Retained 2,923 of 2,923 features\n",
      "[o] Wrote /home/sofia/dev/skytruth-30x30/data/data/mpa-terrestrial/processed/tiles/parts/part37.json\n",
      "Allocating 32 GB of heap memory\n",
      "[clean] Retained 2,922 of 2,922 features\n",
      "[simplify] Repaired 1,476 intersections; 12 intersections could not be repaired\n",
      "[clean] Retained 2,922 of 2,922 features\n",
      "[o] Wrote /home/sofia/dev/skytruth-30x30/data/data/mpa-terrestrial/processed/tiles/parts/part38.json\n",
      "Allocating 32 GB of heap memory\n",
      "[clean] Retained 2,923 of 2,923 features\n",
      "[simplify] Repaired 2,704 intersections; 88 intersections could not be repaired\n",
      "[clean] Retained 2,923 of 2,923 features\n",
      "[o] Wrote /home/sofia/dev/skytruth-30x30/data/data/mpa-terrestrial/processed/tiles/parts/part39.json\n",
      "Allocating 32 GB of heap memory\n",
      "[clean] Retained 2,923 of 2,923 features\n",
      "[simplify] Repaired 524 intersections\n",
      "[clean] Retained 2,923 of 2,923 features\n",
      "[o] Wrote /home/sofia/dev/skytruth-30x30/data/data/mpa-terrestrial/processed/tiles/parts/part3.json\n",
      "Allocating 32 GB of heap memory\n",
      "[clean] Retained 2,923 of 2,923 features\n",
      "[simplify] Repaired 5,124 intersections; 27 intersections could not be repaired\n",
      "[clean] Retained 2,923 of 2,923 features\n",
      "[o] Wrote /home/sofia/dev/skytruth-30x30/data/data/mpa-terrestrial/processed/tiles/parts/part40.json\n",
      "Allocating 32 GB of heap memory\n",
      "[clean] Retained 2,922 of 2,922 features\n",
      "[simplify] Repaired 9,631 intersections; 136 intersections could not be repaired\n",
      "[clean] Retained 2,922 of 2,922 features\n",
      "[o] Wrote /home/sofia/dev/skytruth-30x30/data/data/mpa-terrestrial/processed/tiles/parts/part41.json\n",
      "Allocating 32 GB of heap memory\n",
      "[clean] Retained 2,923 of 2,923 features\n",
      "[simplify] Repaired 9,110 intersections; 64 intersections could not be repaired\n",
      "[clean] Retained 2,923 of 2,923 features\n",
      "[o] Wrote /home/sofia/dev/skytruth-30x30/data/data/mpa-terrestrial/processed/tiles/parts/part42.json\n",
      "Allocating 32 GB of heap memory\n",
      "[clean] Retained 2,922 of 2,922 features\n",
      "[simplify] Repaired 4,879 intersections; 8 intersections could not be repaired\n",
      "[clean] Retained 2,922 of 2,922 features\n",
      "[o] Wrote /home/sofia/dev/skytruth-30x30/data/data/mpa-terrestrial/processed/tiles/parts/part43.json\n",
      "Allocating 32 GB of heap memory\n",
      "[clean] Retained 2,923 of 2,923 features\n",
      "[simplify] Repaired 2,283 intersections; 64 intersections could not be repaired\n",
      "[clean] Retained 2,923 of 2,923 features\n",
      "[o] Wrote /home/sofia/dev/skytruth-30x30/data/data/mpa-terrestrial/processed/tiles/parts/part44.json\n",
      "Allocating 32 GB of heap memory\n",
      "[clean] Retained 2,923 of 2,923 features\n",
      "[simplify] Repaired 70,799 intersections; 380 intersections could not be repaired\n",
      "[clean] Retained 2,923 of 2,923 features\n",
      "[o] Wrote /home/sofia/dev/skytruth-30x30/data/data/mpa-terrestrial/processed/tiles/parts/part45.json\n",
      "Allocating 32 GB of heap memory\n",
      "[clean] Retained 2,922 of 2,922 features\n",
      "[simplify] Repaired 3,258 intersections; 88 intersections could not be repaired\n",
      "[clean] Retained 2,922 of 2,922 features\n",
      "[o] Wrote /home/sofia/dev/skytruth-30x30/data/data/mpa-terrestrial/processed/tiles/parts/part46.json\n",
      "Allocating 32 GB of heap memory\n",
      "[clean] Retained 2,923 of 2,923 features\n",
      "[simplify] Repaired 2,332 intersections; 205 intersections could not be repaired\n",
      "[clean] Retained 2,923 of 2,923 features\n",
      "[o] Wrote /home/sofia/dev/skytruth-30x30/data/data/mpa-terrestrial/processed/tiles/parts/part47.json\n",
      "Allocating 32 GB of heap memory\n",
      "[clean] Retained 2,922 of 2,922 features\n",
      "[simplify] Repaired 1,803 intersections; 92 intersections could not be repaired\n",
      "[clean] Retained 2,922 of 2,922 features\n",
      "[o] Wrote /home/sofia/dev/skytruth-30x30/data/data/mpa-terrestrial/processed/tiles/parts/part48.json\n",
      "Allocating 32 GB of heap memory\n",
      "[clean] Retained 2,923 of 2,923 features\n",
      "[simplify] Repaired 3,474 intersections; 83 intersections could not be repaired\n",
      "[clean] Retained 2,923 of 2,923 features\n",
      "[o] Wrote /home/sofia/dev/skytruth-30x30/data/data/mpa-terrestrial/processed/tiles/parts/part49.json\n",
      "Allocating 32 GB of heap memory\n",
      "[clean] Retained 2,923 of 2,923 features\n",
      "[simplify] Repaired 2,153 intersections; 48 intersections could not be repaired\n",
      "[clean] Retained 2,923 of 2,923 features\n",
      "[o] Wrote /home/sofia/dev/skytruth-30x30/data/data/mpa-terrestrial/processed/tiles/parts/part4.json\n",
      "Allocating 32 GB of heap memory\n",
      "[clean] Retained 2,923 of 2,923 features\n",
      "[simplify] Repaired 2,879 intersections; 108 intersections could not be repaired\n",
      "[clean] Retained 2,923 of 2,923 features\n",
      "[o] Wrote /home/sofia/dev/skytruth-30x30/data/data/mpa-terrestrial/processed/tiles/parts/part50.json\n",
      "Allocating 32 GB of heap memory\n",
      "[clean] Retained 2,922 of 2,922 features\n",
      "[simplify] Repaired 2,048 intersections; 7 intersections could not be repaired\n",
      "[clean] Retained 2,922 of 2,922 features\n",
      "[o] Wrote /home/sofia/dev/skytruth-30x30/data/data/mpa-terrestrial/processed/tiles/parts/part51.json\n",
      "Allocating 32 GB of heap memory\n",
      "[clean] Retained 2,923 of 2,923 features\n",
      "[simplify] Repaired 705 intersections; 40 intersections could not be repaired\n",
      "[clean] Retained 2,923 of 2,923 features\n",
      "[o] Wrote /home/sofia/dev/skytruth-30x30/data/data/mpa-terrestrial/processed/tiles/parts/part52.json\n",
      "Allocating 32 GB of heap memory\n",
      "[clean] Retained 2,922 of 2,922 features\n",
      "[simplify] Repaired 395 intersections\n",
      "[clean] Retained 2,922 of 2,922 features\n",
      "[o] Wrote /home/sofia/dev/skytruth-30x30/data/data/mpa-terrestrial/processed/tiles/parts/part53.json\n",
      "Allocating 32 GB of heap memory\n",
      "[clean] Retained 2,923 of 2,923 features\n",
      "[simplify] Repaired 1,006 intersections; 451 intersections could not be repaired\n",
      "[clean] Retained 2,923 of 2,923 features\n",
      "[o] Wrote /home/sofia/dev/skytruth-30x30/data/data/mpa-terrestrial/processed/tiles/parts/part54.json\n",
      "Allocating 32 GB of heap memory\n",
      "[clean] Retained 2,923 of 2,923 features\n",
      "[simplify] Repaired 6,022 intersections; 528 intersections could not be repaired\n",
      "[clean] Retained 2,923 of 2,923 features\n",
      "[o] Wrote /home/sofia/dev/skytruth-30x30/data/data/mpa-terrestrial/processed/tiles/parts/part55.json\n",
      "Allocating 32 GB of heap memory\n",
      "[clean] Retained 2,922 of 2,922 features\n",
      "[simplify] Repaired 3,333 intersections; 178 intersections could not be repaired\n",
      "[clean] Retained 2,922 of 2,922 features\n",
      "[o] Wrote /home/sofia/dev/skytruth-30x30/data/data/mpa-terrestrial/processed/tiles/parts/part56.json\n",
      "Allocating 32 GB of heap memory\n",
      "[clean] Retained 2,923 of 2,923 features\n",
      "[simplify] Repaired 2,672 intersections; 32 intersections could not be repaired\n",
      "[clean] Retained 2,923 of 2,923 features\n",
      "[o] Wrote /home/sofia/dev/skytruth-30x30/data/data/mpa-terrestrial/processed/tiles/parts/part57.json\n",
      "Allocating 32 GB of heap memory\n",
      "[clean] Retained 2,922 of 2,922 features\n",
      "[simplify] Repaired 15,944 intersections; 148 intersections could not be repaired\n",
      "[clean] Retained 2,922 of 2,922 features\n",
      "[o] Wrote /home/sofia/dev/skytruth-30x30/data/data/mpa-terrestrial/processed/tiles/parts/part58.json\n",
      "Allocating 32 GB of heap memory\n",
      "[clean] Retained 2,923 of 2,923 features\n",
      "[simplify] Repaired 2,914 intersections; 48 intersections could not be repaired\n",
      "[clean] Retained 2,923 of 2,923 features\n",
      "[o] Wrote /home/sofia/dev/skytruth-30x30/data/data/mpa-terrestrial/processed/tiles/parts/part59.json\n",
      "Allocating 32 GB of heap memory\n",
      "[clean] Retained 2,922 of 2,922 features\n",
      "[simplify] Repaired 2,659 intersections; 75 intersections could not be repaired\n",
      "[clean] Retained 2,922 of 2,922 features\n",
      "[o] Wrote /home/sofia/dev/skytruth-30x30/data/data/mpa-terrestrial/processed/tiles/parts/part5.json\n",
      "Allocating 32 GB of heap memory\n",
      "[clean] Retained 2,923 of 2,923 features\n",
      "[simplify] Repaired 1,663 intersections; 68 intersections could not be repaired\n",
      "[clean] Retained 2,923 of 2,923 features\n",
      "[o] Wrote /home/sofia/dev/skytruth-30x30/data/data/mpa-terrestrial/processed/tiles/parts/part60.json\n",
      "Allocating 32 GB of heap memory\n",
      "[clean] Retained 2,922 of 2,922 features\n",
      "[simplify] Repaired 1,759 intersections; 8 intersections could not be repaired\n",
      "[clean] Retained 2,922 of 2,922 features\n",
      "[o] Wrote /home/sofia/dev/skytruth-30x30/data/data/mpa-terrestrial/processed/tiles/parts/part61.json\n",
      "Allocating 32 GB of heap memory\n",
      "[clean] Retained 2,923 of 2,923 features\n",
      "[simplify] Repaired 6,003 intersections; 396 intersections could not be repaired\n",
      "[clean] Retained 2,923 of 2,923 features\n",
      "[o] Wrote /home/sofia/dev/skytruth-30x30/data/data/mpa-terrestrial/processed/tiles/parts/part62.json\n",
      "Allocating 32 GB of heap memory\n",
      "[clean] Retained 2,923 of 2,923 features\n",
      "[simplify] Repaired 2,626 intersections; 24 intersections could not be repaired\n",
      "[clean] Retained 2,923 of 2,923 features\n",
      "[o] Wrote /home/sofia/dev/skytruth-30x30/data/data/mpa-terrestrial/processed/tiles/parts/part63.json\n",
      "Allocating 32 GB of heap memory\n",
      "[clean] Retained 2,922 of 2,922 features\n",
      "[simplify] Repaired 767 intersections; 108 intersections could not be repaired\n",
      "[clean] Retained 2,922 of 2,922 features\n",
      "[o] Wrote /home/sofia/dev/skytruth-30x30/data/data/mpa-terrestrial/processed/tiles/parts/part64.json\n",
      "Allocating 32 GB of heap memory\n",
      "[clean] Retained 2,923 of 2,923 features\n",
      "[simplify] Repaired 38 intersections\n",
      "[clean] Retained 2,923 of 2,923 features\n",
      "[o] Wrote /home/sofia/dev/skytruth-30x30/data/data/mpa-terrestrial/processed/tiles/parts/part65.json\n",
      "Allocating 32 GB of heap memory\n",
      "[clean] Retained 2,922 of 2,922 features\n",
      "[simplify] Repaired 13,934 intersections; 154 intersections could not be repaired\n",
      "[clean] Retained 2,921 of 2,922 features\n",
      "[o] Wrote /home/sofia/dev/skytruth-30x30/data/data/mpa-terrestrial/processed/tiles/parts/part66.json\n",
      "Allocating 32 GB of heap memory\n",
      "[clean] Retained 2,923 of 2,923 features\n",
      "[simplify] Repaired 2,359 intersections; 261 intersections could not be repaired\n",
      "[clean] Retained 2,923 of 2,923 features\n",
      "[o] Wrote /home/sofia/dev/skytruth-30x30/data/data/mpa-terrestrial/processed/tiles/parts/part67.json\n",
      "Allocating 32 GB of heap memory\n",
      "[clean] Retained 2,923 of 2,923 features\n",
      "[simplify] Repaired 548 intersections; 48 intersections could not be repaired\n",
      "[clean] Retained 2,923 of 2,923 features\n",
      "[o] Wrote /home/sofia/dev/skytruth-30x30/data/data/mpa-terrestrial/processed/tiles/parts/part68.json\n",
      "Allocating 32 GB of heap memory\n",
      "[clean] Retained 2,922 of 2,922 features\n",
      "[simplify] Repaired 1,372 intersections\n",
      "[clean] Retained 2,922 of 2,922 features\n",
      "[o] Wrote /home/sofia/dev/skytruth-30x30/data/data/mpa-terrestrial/processed/tiles/parts/part69.json\n",
      "Allocating 32 GB of heap memory\n",
      "[clean] Retained 2,923 of 2,923 features\n",
      "[simplify] Repaired 1,615 intersections\n",
      "[clean] Retained 2,923 of 2,923 features\n",
      "[o] Wrote /home/sofia/dev/skytruth-30x30/data/data/mpa-terrestrial/processed/tiles/parts/part6.json\n",
      "Allocating 32 GB of heap memory\n",
      "[clean] Retained 2,923 of 2,923 features\n",
      "[simplify] Repaired 6,887 intersections; 33 intersections could not be repaired\n",
      "[clean] Retained 2,923 of 2,923 features\n",
      "[o] Wrote /home/sofia/dev/skytruth-30x30/data/data/mpa-terrestrial/processed/tiles/parts/part70.json\n",
      "Allocating 32 GB of heap memory\n",
      "[clean] Retained 2,922 of 2,922 features\n",
      "[simplify] Repaired 945 intersections; 15 intersections could not be repaired\n",
      "[clean] Retained 2,922 of 2,922 features\n",
      "[o] Wrote /home/sofia/dev/skytruth-30x30/data/data/mpa-terrestrial/processed/tiles/parts/part71.json\n",
      "Allocating 32 GB of heap memory\n",
      "[clean] Retained 2,923 of 2,923 features\n",
      "[simplify] Repaired 1,042 intersections; 51 intersections could not be repaired\n",
      "[clean] Retained 2,923 of 2,923 features\n",
      "[o] Wrote /home/sofia/dev/skytruth-30x30/data/data/mpa-terrestrial/processed/tiles/parts/part72.json\n",
      "Allocating 32 GB of heap memory\n",
      "[clean] Retained 2,923 of 2,923 features\n",
      "[simplify] Repaired 1,445 intersections; 80 intersections could not be repaired\n",
      "[clean] Retained 2,923 of 2,923 features\n",
      "[o] Wrote /home/sofia/dev/skytruth-30x30/data/data/mpa-terrestrial/processed/tiles/parts/part73.json\n",
      "Allocating 32 GB of heap memory\n",
      "[clean] Retained 2,922 of 2,922 features\n",
      "[simplify] Repaired 662 intersections\n",
      "[clean] Retained 2,922 of 2,922 features\n",
      "[o] Wrote /home/sofia/dev/skytruth-30x30/data/data/mpa-terrestrial/processed/tiles/parts/part74.json\n",
      "Allocating 32 GB of heap memory\n",
      "[clean] Retained 2,923 of 2,923 features\n",
      "[simplify] Repaired 1,006 intersections; 3 intersections could not be repaired\n",
      "[clean] Retained 2,923 of 2,923 features\n",
      "[o] Wrote /home/sofia/dev/skytruth-30x30/data/data/mpa-terrestrial/processed/tiles/parts/part75.json\n",
      "Allocating 32 GB of heap memory\n",
      "[clean] Retained 2,922 of 2,922 features\n",
      "[simplify] Repaired 479 intersections\n",
      "[clean] Retained 2,922 of 2,922 features\n",
      "[o] Wrote /home/sofia/dev/skytruth-30x30/data/data/mpa-terrestrial/processed/tiles/parts/part76.json\n",
      "Allocating 32 GB of heap memory\n",
      "[clean] Retained 2,923 of 2,923 features\n",
      "[simplify] Repaired 407 intersections\n",
      "[clean] Retained 2,923 of 2,923 features\n",
      "[o] Wrote /home/sofia/dev/skytruth-30x30/data/data/mpa-terrestrial/processed/tiles/parts/part77.json\n",
      "Allocating 32 GB of heap memory\n",
      "[clean] Retained 2,923 of 2,923 features\n",
      "[simplify] Repaired 2,585 intersections; 48 intersections could not be repaired\n",
      "[clean] Retained 2,923 of 2,923 features\n",
      "[o] Wrote /home/sofia/dev/skytruth-30x30/data/data/mpa-terrestrial/processed/tiles/parts/part78.json\n",
      "Allocating 32 GB of heap memory\n",
      "[clean] Retained 2,922 of 2,922 features\n",
      "[simplify] Repaired 516 intersections\n",
      "[clean] Retained 2,922 of 2,922 features\n",
      "[o] Wrote /home/sofia/dev/skytruth-30x30/data/data/mpa-terrestrial/processed/tiles/parts/part79.json\n",
      "Allocating 32 GB of heap memory\n",
      "[clean] Retained 2,922 of 2,922 features\n",
      "[simplify] Repaired 1,226 intersections\n",
      "[clean] Retained 2,922 of 2,922 features\n",
      "[o] Wrote /home/sofia/dev/skytruth-30x30/data/data/mpa-terrestrial/processed/tiles/parts/part7.json\n",
      "Allocating 32 GB of heap memory\n",
      "[clean] Retained 2,923 of 2,923 features\n",
      "[simplify] Repaired 978 intersections; 157 intersections could not be repaired\n",
      "[clean] Retained 2,922 of 2,923 features\n",
      "[o] Wrote /home/sofia/dev/skytruth-30x30/data/data/mpa-terrestrial/processed/tiles/parts/part80.json\n",
      "Allocating 32 GB of heap memory\n",
      "[clean] Retained 2,923 of 2,923 features\n",
      "[simplify] Repaired 2,302 intersections; 330 intersections could not be repaired\n",
      "[clean] Retained 2,923 of 2,923 features\n",
      "[o] Wrote /home/sofia/dev/skytruth-30x30/data/data/mpa-terrestrial/processed/tiles/parts/part81.json\n",
      "Allocating 32 GB of heap memory\n",
      "[clean] Retained 2,922 of 2,922 features\n",
      "[simplify] Repaired 856 intersections\n",
      "[clean] Retained 2,922 of 2,922 features\n",
      "[o] Wrote /home/sofia/dev/skytruth-30x30/data/data/mpa-terrestrial/processed/tiles/parts/part82.json\n",
      "Allocating 32 GB of heap memory\n",
      "[clean] Retained 2,923 of 2,923 features\n",
      "[simplify] Repaired 1,722 intersections; 8 intersections could not be repaired\n",
      "[clean] Retained 2,923 of 2,923 features\n",
      "[o] Wrote /home/sofia/dev/skytruth-30x30/data/data/mpa-terrestrial/processed/tiles/parts/part83.json\n",
      "Allocating 32 GB of heap memory\n",
      "[clean] Retained 2,922 of 2,922 features\n",
      "[simplify] Repaired 3,215 intersections; 28 intersections could not be repaired\n",
      "[clean] Retained 2,922 of 2,922 features\n",
      "[o] Wrote /home/sofia/dev/skytruth-30x30/data/data/mpa-terrestrial/processed/tiles/parts/part84.json\n",
      "Allocating 32 GB of heap memory\n",
      "[clean] Retained 2,923 of 2,923 features\n",
      "[simplify] Repaired 902 intersections\n",
      "[clean] Retained 2,923 of 2,923 features\n",
      "[o] Wrote /home/sofia/dev/skytruth-30x30/data/data/mpa-terrestrial/processed/tiles/parts/part85.json\n",
      "Allocating 32 GB of heap memory\n",
      "[clean] Retained 2,923 of 2,923 features\n",
      "[simplify] Repaired 395 intersections\n",
      "[clean] Retained 2,923 of 2,923 features\n",
      "[o] Wrote /home/sofia/dev/skytruth-30x30/data/data/mpa-terrestrial/processed/tiles/parts/part86.json\n",
      "Allocating 32 GB of heap memory\n",
      "[clean] Retained 2,922 of 2,922 features\n",
      "[simplify] Repaired 1,585 intersections; 8 intersections could not be repaired\n",
      "[clean] Retained 2,922 of 2,922 features\n",
      "[o] Wrote /home/sofia/dev/skytruth-30x30/data/data/mpa-terrestrial/processed/tiles/parts/part87.json\n",
      "Allocating 32 GB of heap memory\n",
      "[clean] Retained 2,923 of 2,923 features\n",
      "[simplify] Repaired 70,987 intersections; 1,056 intersections could not be repaired\n",
      "[clean] Retained 2,923 of 2,923 features\n",
      "[o] Wrote /home/sofia/dev/skytruth-30x30/data/data/mpa-terrestrial/processed/tiles/parts/part88.json\n",
      "Allocating 32 GB of heap memory\n",
      "[clean] Retained 2,922 of 2,922 features\n",
      "[simplify] Repaired 1,275 intersections; 92 intersections could not be repaired\n",
      "[clean] Retained 2,922 of 2,922 features\n",
      "[o] Wrote /home/sofia/dev/skytruth-30x30/data/data/mpa-terrestrial/processed/tiles/parts/part89.json\n",
      "Allocating 32 GB of heap memory\n",
      "[clean] Retained 2,923 of 2,923 features\n",
      "[simplify] Repaired 2,453 intersections; 12 intersections could not be repaired\n",
      "[clean] Retained 2,923 of 2,923 features\n",
      "[o] Wrote /home/sofia/dev/skytruth-30x30/data/data/mpa-terrestrial/processed/tiles/parts/part8.json\n",
      "Allocating 32 GB of heap memory\n",
      "[clean] Retained 2,923 of 2,923 features\n",
      "[simplify] Repaired 4,606 intersections; 27 intersections could not be repaired\n",
      "[clean] Retained 2,923 of 2,923 features\n",
      "[o] Wrote /home/sofia/dev/skytruth-30x30/data/data/mpa-terrestrial/processed/tiles/parts/part90.json\n",
      "Allocating 32 GB of heap memory\n",
      "[clean] Retained 2,923 of 2,923 features\n",
      "[simplify] Repaired 1,452 intersections; 52 intersections could not be repaired\n",
      "[clean] Retained 2,923 of 2,923 features\n",
      "[o] Wrote /home/sofia/dev/skytruth-30x30/data/data/mpa-terrestrial/processed/tiles/parts/part91.json\n",
      "Allocating 32 GB of heap memory\n",
      "[clean] Retained 2,922 of 2,922 features\n",
      "[simplify] Repaired 749 intersections; 14 intersections could not be repaired\n",
      "[clean] Retained 2,922 of 2,922 features\n",
      "[o] Wrote /home/sofia/dev/skytruth-30x30/data/data/mpa-terrestrial/processed/tiles/parts/part92.json\n",
      "Allocating 32 GB of heap memory\n",
      "[clean] Retained 2,923 of 2,923 features\n",
      "[simplify] Repaired 3,089 intersections; 351 intersections could not be repaired\n",
      "[clean] Retained 2,923 of 2,923 features\n",
      "[o] Wrote /home/sofia/dev/skytruth-30x30/data/data/mpa-terrestrial/processed/tiles/parts/part93.json\n",
      "Allocating 32 GB of heap memory\n",
      "[clean] Retained 2,922 of 2,922 features\n",
      "[simplify] Repaired 2,153 intersections; 35 intersections could not be repaired\n",
      "[clean] Retained 2,922 of 2,922 features\n",
      "[o] Wrote /home/sofia/dev/skytruth-30x30/data/data/mpa-terrestrial/processed/tiles/parts/part94.json\n",
      "Allocating 32 GB of heap memory\n",
      "[clean] Retained 2,923 of 2,923 features\n",
      "[simplify] Repaired 1,461 intersections; 16 intersections could not be repaired\n",
      "[clean] Retained 2,923 of 2,923 features\n",
      "[o] Wrote /home/sofia/dev/skytruth-30x30/data/data/mpa-terrestrial/processed/tiles/parts/part95.json\n",
      "Allocating 32 GB of heap memory\n",
      "[clean] Retained 2,923 of 2,923 features\n",
      "[simplify] Repaired 37,173 intersections; 7,581 intersections could not be repaired\n",
      "[clean] Retained 2,922 of 2,923 features\n",
      "[o] Wrote /home/sofia/dev/skytruth-30x30/data/data/mpa-terrestrial/processed/tiles/parts/part96.json\n",
      "Allocating 32 GB of heap memory\n",
      "[clean] Retained 2,922 of 2,922 features\n",
      "[simplify] Repaired 9,138 intersections; 1,597 intersections could not be repaired\n",
      "[clean] Retained 2,922 of 2,922 features\n",
      "[o] Wrote /home/sofia/dev/skytruth-30x30/data/data/mpa-terrestrial/processed/tiles/parts/part97.json\n",
      "Allocating 32 GB of heap memory\n",
      "[clean] Retained 2,923 of 2,923 features\n",
      "[simplify] Repaired 16,085 intersections; 112 intersections could not be repaired\n",
      "[clean] Retained 2,923 of 2,923 features\n",
      "[o] Wrote /home/sofia/dev/skytruth-30x30/data/data/mpa-terrestrial/processed/tiles/parts/part98.json\n",
      "Allocating 32 GB of heap memory\n",
      "[clean] Retained 2,923 of 2,923 features\n",
      "[simplify] Repaired 5 intersections\n",
      "[clean] Retained 2,923 of 2,923 features\n",
      "[o] Wrote /home/sofia/dev/skytruth-30x30/data/data/mpa-terrestrial/processed/tiles/parts/part99.json\n",
      "Allocating 32 GB of heap memory\n",
      "[clean] Retained 2,923 of 2,923 features\n",
      "[simplify] Repaired 3,394 intersections; 20 intersections could not be repaired\n",
      "[clean] Retained 2,923 of 2,923 features\n",
      "[o] Wrote /home/sofia/dev/skytruth-30x30/data/data/mpa-terrestrial/processed/tiles/parts/part9.json\n"
     ]
    }
   ],
   "source": [
    "# Simplify the geometries in each part\n",
    "!mapshaper-xl 32gb -i /home/sofia/dev/skytruth-30x30/data/data/mpa-terrestrial/processed/preprocess/parts/*.shp  -filter-fields fields=WDPAID,NAME,PA_DEF,GIS_AREA,PARENT_ISO -clean allow-overlaps rewind -simplify dp 30% keep-shapes planar -clean allow-overlaps -o /home/sofia/dev/skytruth-30x30/data/data/mpa-terrestrial/processed/tiles/parts format=geojson"
   ]
  },
  {
   "cell_type": "code",
   "execution_count": 7,
   "metadata": {},
   "outputs": [
    {
     "name": "stdout",
     "output_type": "stream",
     "text": [
      "Allocating 32 GB of heap memory\n",
      "[info] \n",
      "=======================================\n",
      "Layer:    part\n",
      "---------------------------------------\n",
      "Type:     polygon\n",
      "Records:  292,258\n",
      "Bounds:   -17365351.30054095,-8681816.563254528,17455418.620513726,8381220.576463436\n",
      "CRS:      [unknown]\n",
      "Source:   /home/sofia/dev/skytruth-30x30/data/data/mpa-terrestrial/processed/tiles/parts/part0.json\n",
      "\n",
      "Attribute data\n",
      "------------+--------------------------\n",
      " Field      | First value\n",
      "------------+--------------------------\n",
      " GIS_AREA   | 218.56922190237\n",
      " NAME       | 'Laguna de los Pozuelos'\n",
      " PA_DEF     | '1'\n",
      " PARENT_ISO | 'ARG'\n",
      " WDPAID     |   3\n",
      "------------+--------------------------\n",
      "\n",
      "[o] RFC 7946 warning: non-WGS84 GeoJSON output.\n",
      "[o] Wrote /home/sofia/dev/skytruth-30x30/data/data/mpa-terrestrial/processed/tiles/mpa-terrestrial_tiles.json\n"
     ]
    }
   ],
   "source": [
    "# Combine simplified files into one\n",
    "!mapshaper-xl 32gb -i /home/sofia/dev/skytruth-30x30/data/data/mpa-terrestrial/processed/tiles/parts/*.json combine-files -merge-layers -info -o /home/sofia/dev/skytruth-30x30/data/data/mpa-terrestrial/processed/tiles/mpa-terrestrial_tiles.json format=geojson"
   ]
  },
  {
   "cell_type": "code",
   "execution_count": 30,
   "metadata": {},
   "outputs": [
    {
     "name": "stderr",
     "output_type": "stream",
     "text": [
      "For layer 0, using name \"mpaterrestrial_tiles\"\n",
      "/home/sofia/dev/skytruth-30x30/data/data/mpa-terrestrial/processed/tiles/mpa-terrestrial_tiles.json:2292: Reached EOF without all containers being closed: in JSON object {\"type\":\"FeatureCollection\",\"features\":[]}\n",
      "/home/sofia/dev/skytruth-30x30/data/data/mpa-terrestrial/processed/tiles/mpa-terrestrial_tiles.json:8054: Found ] at top level: \n",
      "292258 features, 145131001 bytes of geometry, 14491838 bytes of string pool\n",
      "Choosing a maxzoom of -z6 for features typically 16077 feet (4901 meters) apart, and at least 1742 feet (531 meters) apart\n",
      "Choosing a maxzoom of -z8 for resolution of about 1487 feet (453 meters) within features\n",
      "tile 0/0/0 size is 858242 with detail 12, >500000    \n",
      "tile 1/0/0 size is 531410 with detail 12, >500000    \n",
      "tile 1/1/0 size is 997206 with detail 12, >500000    \n",
      "tile 2/1/1 size is 617557 with detail 12, >500000    \n",
      "tile 2/2/1 size is 1580755 with detail 12, >500000    \n",
      "tile 2/2/1 size is 814261 with detail 11, >500000    \n",
      "tile 3/4/2 size is 2364270 with detail 12, >500000    \n",
      "tile 3/4/2 size is 1269866 with detail 11, >500000    \n",
      "tile 3/4/2 size is 626476 with detail 10, >500000    \n",
      "tile 4/4/5 size is 518158 with detail 12, >500000    \n",
      "tile 4/9/4 size is 574378 with detail 12, >500000    \n",
      "tile 4/9/5 size is 542672 with detail 12, >500000    \n",
      "tile 4/8/4 size is 769197 with detail 12, >500000    \n",
      "tile 4/8/5 size is 2263374 with detail 12, >500000    \n",
      "tile 4/8/5 size is 1306184 with detail 11, >500000    \n",
      "tile 4/8/5 size is 702654 with detail 10, >500000    \n",
      "tile 5/18/9 size is 517344 with detail 12, >500000    \n",
      "tile 5/17/9 size is 680231 with detail 12, >500000    \n",
      "tile 5/17/11 size is 661616 with detail 12, >500000    \n",
      "tile 5/16/11 size is 826739 with detail 12, >500000    \n",
      "tile 5/17/10 size is 860937 with detail 12, >500000    \n",
      "tile 5/17/10 size is 536487 with detail 11, >500000    \n",
      "tile 5/16/10 size is 1497332 with detail 12, >500000    \n",
      "tile 5/16/10 size is 888181 with detail 11, >500000    \n",
      "tile 6/34/21 size is 554828 with detail 12, >500000    \n",
      "tile 6/33/22 size is 793806 with detail 12, >500000    \n",
      "tile 6/33/21 size is 1492123 with detail 12, >500000    \n",
      "tile 6/33/21 size is 962449 with detail 11, >500000    \n",
      "tile 6/33/21 size is 573074 with detail 10, >500000    \n",
      "tile 7/66/42 size is 805262 with detail 12, >500000    \n",
      "tile 7/66/42 size is 571487 with detail 11, >500000    \n",
      "  99.9%  8/139/86   \n"
     ]
    },
    {
     "data": {
      "text/plain": [
       "PosixPath('/home/sofia/dev/skytruth-30x30/data/data/mpa-terrestrial/processed/tiles/mpa-terrestrial_tiles.mbtiles')"
      ]
     },
     "execution_count": 30,
     "metadata": {},
     "output_type": "execute_result"
    }
   ],
   "source": [
    "# Generate tiles\n",
    "mbtileGeneration(source_dir.get_step_fmt_file_path(current_step, \"json\"))"
   ]
  },
  {
   "cell_type": "code",
   "execution_count": 31,
   "metadata": {},
   "outputs": [
    {
     "name": "stdout",
     "output_type": "stream",
     "text": [
      "upload: data/mpa-terrestrial/processed/tiles/mpa-terrestrial_tiles.mbtiles to s3://tilestream-tilesets-production/da/_pending/ktgzxoiw6pt17hp0ixdp0s1mc/skytruth\n"
     ]
    },
    {
     "name": "stderr",
     "output_type": "stream",
     "text": [
      "Linking tileset to Mapbox: 100%|█████████████████████████████████████████████████████████████████████████████████████████████████████████████████| 100/100 [01:12<00:00,  1.38it/s]\n"
     ]
    },
    {
     "data": {
      "text/plain": [
       "True"
      ]
     },
     "execution_count": 31,
     "metadata": {},
     "output_type": "execute_result"
    }
   ],
   "source": [
    "# Upload to mapbox\n",
    "uploadToMapbox(\n",
    "    source_dir.get_step_fmt_file_path(current_step, \"mbtiles\"),\n",
    "    collection_name,\n",
    "    mysettings.MAPBOX_USER,\n",
    "    mysettings.MAPBOX_TOKEN,\n",
    ")"
   ]
  },
  {
   "cell_type": "markdown",
   "metadata": {
    "jp-MarkdownHeadingCollapsed": true
   },
   "source": [
    "### MPA Atlas "
   ]
  },
  {
   "cell_type": "code",
   "execution_count": 7,
   "metadata": {},
   "outputs": [
    {
     "name": "stdout",
     "output_type": "stream",
     "text": [
      "/home/mambauser/data/mpaatlas/processed/mpaatlas_preprocess.zip\n",
      "/home/mambauser/data/mpaatlas/processed/preprocess\n"
     ]
    },
    {
     "name": "stderr",
     "output_type": "stream",
     "text": [
      "Allocating 50 GB of heap memory\n",
      "[clean] Retained 863 of 870 features\n",
      "[o] Wrote /home/mambauser/data/mpaatlas/processed/preprocess/mpaatlas_preprocess.json\n",
      "For layer 0, using name \"mpaatlas_preprocess\"\n",
      "/home/mambauser/data/mpaatlas/processed/preprocess/mpaatlas_preprocess.json:293: Reached EOF without all containers being closed\n",
      "In JSON object {\"type\":\"FeatureCollection\",\"features\":[]}\n",
      "/home/mambauser/data/mpaatlas/processed/preprocess/mpaatlas_preprocess.json:21: Found ] at top level\n",
      "863 features, 33449716 bytes of geometry, 29354 bytes of separate metadata, 53170 bytes of string pool\n",
      "Choosing a maxzoom of -z0 for features about 282844 feet (86211 meters) apart\n",
      "Choosing a maxzoom of -z12 for resolution of about 98 feet (30 meters) within features\n",
      "  99.9%  12/1004/2052  \n"
     ]
    },
    {
     "data": {
      "text/plain": [
       "PosixPath('/home/mambauser/data/mpaatlas/processed/tiles/mpaatlas_tiles.mbtiles')"
      ]
     },
     "execution_count": 7,
     "metadata": {},
     "output_type": "execute_result"
    }
   ],
   "source": [
    "pipe = \"mpaatlas\"\n",
    "collection_name = \"mpa_atlas\"\n",
    "\n",
    "source_dir = FileConventionHandler(pipe)\n",
    "# Download the data file && unzip it if needed\n",
    "download_and_unzip_if_needed(source_dir, prev_step, mysettings)\n",
    "\n",
    "# generate the mbtiles\n",
    "mbtileGeneration(\n",
    "    source_dir.get_step_fmt_file_path(prev_step, \"shp\"),\n",
    "    source_dir.get_step_fmt_file_path(current_step, \"mbtiles\"),\n",
    ")"
   ]
  },
  {
   "cell_type": "code",
   "execution_count": 8,
   "metadata": {},
   "outputs": [
    {
     "name": "stdout",
     "output_type": "stream",
     "text": [
      "upload: ../../data/mpaatlas/processed/tiles/mpaatlas_tiles.mbtiles to s3://tilestream-tilesets-production/32/_pending/4py3xz71znm1h1p9cr1v050mc/skytruth\n"
     ]
    },
    {
     "name": "stderr",
     "output_type": "stream",
     "text": [
      "Linking tileset to Mapbox: 100%|██████████| 100/100 [05:24<00:00,  3.25s/it]\n"
     ]
    },
    {
     "data": {
      "text/plain": [
       "True"
      ]
     },
     "execution_count": 8,
     "metadata": {},
     "output_type": "execute_result"
    }
   ],
   "source": [
    "uploadToMapbox(\n",
    "    source_dir.get_step_fmt_file_path(current_step, \"mbtiles\"),\n",
    "    collection_name,\n",
    "    mysettings.MAPBOX_USER,\n",
    "    mysettings.MAPBOX_TOKEN,\n",
    ")"
   ]
  },
  {
   "cell_type": "markdown",
   "metadata": {
    "jp-MarkdownHeadingCollapsed": true
   },
   "source": [
    "### Protected seas"
   ]
  },
  {
   "cell_type": "code",
   "execution_count": null,
   "metadata": {},
   "outputs": [],
   "source": [
    "pipe = \"protectedseas\"\n",
    "collection_name = \"protected_seas\"\n",
    "\n",
    "pipe_dir = FileConventionHandler(pipe)\n",
    "input_file_moderate = pipe_dir.get_processed_step_path(prev_step).joinpath(\"ProtectedSeas_Navigator_LFP3_20240531.zip\")\n",
    "input_file_high = pipe_dir.get_processed_step_path(prev_step).joinpath(\"ProtectedSeas_Navigator_LFP4_5_20240531.zip\")\n",
    "\n",
    "input_file = pipe_dir.get_processed_step_path(prev_step).joinpath(\"protectedseas.json\")\n",
    "output_file = pipe_dir.get_processed_step_path(current_step).joinpath(\"protectedseas_tiles.mbtiles\")\n",
    "\n",
    "# Download the protected seas layers from the bucket && unzip it\n",
    "writeReadGCP(\n",
    "    credentials=mysettings.GCS_KEYFILE_JSON,\n",
    "    bucket_name=mysettings.GCS_BUCKET,\n",
    "    blob_name=\"ProtectedSeas/ProtectedSeas_Navigator_LFP3_20240531.zip\",\n",
    "    file=input_file_moderate,\n",
    "    operation=\"r\",\n",
    ")\n",
    "\n",
    "writeReadGCP(\n",
    "    credentials=mysettings.GCS_KEYFILE_JSON,\n",
    "    bucket_name=mysettings.GCS_BUCKET,\n",
    "    blob_name=\"ProtectedSeas/ProtectedSeas_Navigator_LFP4_5_20240531.zip\",\n",
    "    file=input_file_high,\n",
    "    operation=\"r\",\n",
    ")\n",
    "\n",
    "# Load the data\n",
    "protectedseas_layer_mod = gpd.read_file(input_file_moderate).pipe(clean_geometries)\n",
    "protectedseas_layer_high = gpd.read_file(input_file_high).pipe(clean_geometries)\n"
   ]
  },
  {
   "cell_type": "code",
   "execution_count": 44,
   "metadata": {},
   "outputs": [],
   "source": [
    "protectedseas_layer_high = protectedseas_layer_high[['SITE_ID', 'SITE_NAME','removal_of','geometry']]\n",
    "protectedseas_layer_mod = protectedseas_layer_mod[['SITE_ID', 'SITE_NAME','removal_of','geometry']]"
   ]
  },
  {
   "cell_type": "code",
   "execution_count": 45,
   "metadata": {},
   "outputs": [],
   "source": [
    "protectedseas_layer_high['FPS_cat'] = 'highly'\n",
    "protectedseas_layer_mod['FPS_cat'] = 'moderately'"
   ]
  },
  {
   "cell_type": "code",
   "execution_count": 46,
   "metadata": {},
   "outputs": [
    {
     "data": {
      "text/html": [
       "<div>\n",
       "<style scoped>\n",
       "    .dataframe tbody tr th:only-of-type {\n",
       "        vertical-align: middle;\n",
       "    }\n",
       "\n",
       "    .dataframe tbody tr th {\n",
       "        vertical-align: top;\n",
       "    }\n",
       "\n",
       "    .dataframe thead th {\n",
       "        text-align: right;\n",
       "    }\n",
       "</style>\n",
       "<table border=\"1\" class=\"dataframe\">\n",
       "  <thead>\n",
       "    <tr style=\"text-align: right;\">\n",
       "      <th></th>\n",
       "      <th>SITE_ID</th>\n",
       "      <th>SITE_NAME</th>\n",
       "      <th>removal_of</th>\n",
       "      <th>geometry</th>\n",
       "      <th>FPS_cat</th>\n",
       "    </tr>\n",
       "  </thead>\n",
       "  <tbody>\n",
       "    <tr>\n",
       "      <th>0</th>\n",
       "      <td>AIAG19</td>\n",
       "      <td>Southern No Net Zone</td>\n",
       "      <td>3</td>\n",
       "      <td>POLYGON ((-61.82426 17.59172, -61.82393 17.591...</td>\n",
       "      <td>moderately</td>\n",
       "    </tr>\n",
       "  </tbody>\n",
       "</table>\n",
       "</div>"
      ],
      "text/plain": [
       "  SITE_ID             SITE_NAME  removal_of  \\\n",
       "0  AIAG19  Southern No Net Zone           3   \n",
       "\n",
       "                                            geometry     FPS_cat  \n",
       "0  POLYGON ((-61.82426 17.59172, -61.82393 17.591...  moderately  "
      ]
     },
     "execution_count": 46,
     "metadata": {},
     "output_type": "execute_result"
    }
   ],
   "source": [
    "# Merge the two layers\n",
    "protectedseas_layer = gpd.GeoDataFrame(\n",
    "    pd.concat([protectedseas_layer_mod, protectedseas_layer_high], ignore_index=True)\n",
    ")\n",
    "\n",
    "# Save merged layer \n",
    "protectedseas_layer.to_file(input_file, driver=\"GeoJSON\")\n",
    "\n",
    "protectedseas_layer.head(1)"
   ]
  },
  {
   "cell_type": "code",
   "execution_count": 47,
   "metadata": {},
   "outputs": [
    {
     "name": "stderr",
     "output_type": "stream",
     "text": [
      "Allocating 32 GB of heap memory\n",
      "[clean] Retained 6,741 of 6,741 features\n",
      "[simplify] Repaired 5,237 intersections; 629 intersections could not be repaired\n",
      "[clean] Retained 6,741 of 6,741 features\n",
      "[o] Wrote /home/sofia/dev/skytruth-30x30/data/data/protectedseas/processed/preprocess/protectedseas.json\n"
     ]
    },
    {
     "data": {
      "text/plain": [
       "CompletedProcess(args='mapshaper-xl 32gb -i /home/sofia/dev/skytruth-30x30/data/data/protectedseas/processed/preprocess/protectedseas.json  -clean allow-overlaps rewind -simplify dp 10% keep-shapes planar -clean allow-overlaps -o /home/sofia/dev/skytruth-30x30/data/data/protectedseas/processed/preprocess/protectedseas.json force format=geojson', returncode=0)"
      ]
     },
     "execution_count": 47,
     "metadata": {},
     "output_type": "execute_result"
    }
   ],
   "source": [
    "# simplify the geometries\n",
    "Mapshaper(32).input([input_file.as_posix()]).clean(\n",
    "    allow_overlaps=True, rewind=True\n",
    ").simplify(\"dp 10% keep-shapes planar\").clean(allow_overlaps=True).output(\n",
    "    input_file.as_posix(),\n",
    "    force=True,\n",
    "    format=\"geojson\",\n",
    ").execute()"
   ]
  },
  {
   "cell_type": "code",
   "execution_count": 48,
   "metadata": {},
   "outputs": [
    {
     "name": "stderr",
     "output_type": "stream",
     "text": [
      "For layer 0, using name \"protectedseas\"\n",
      "/home/sofia/dev/skytruth-30x30/data/data/protectedseas/processed/preprocess/protectedseas.json:462: Found ] at top level: \n",
      "/home/sofia/dev/skytruth-30x30/data/data/protectedseas/processed/preprocess/protectedseas.json:270: Reached EOF without all containers being closed: in JSON object {\"type\":\"FeatureCollection\",\"features\":[]}\n",
      "6741 features, 9193728 bytes of geometry, 372650 bytes of string pool\n",
      "Choosing a maxzoom of -z4 for features typically 73700 feet (22464 meters) apart, and at least 4638 feet (1414 meters) apart\n",
      "Choosing a maxzoom of -z9 for resolution of about 755 feet (230 meters) within features\n",
      "  99.9%  9/360/253  \n"
     ]
    },
    {
     "data": {
      "text/plain": [
       "PosixPath('/home/sofia/dev/skytruth-30x30/data/data/protectedseas/processed/tiles/protectedseas_tiles.mbtiles')"
      ]
     },
     "execution_count": 48,
     "metadata": {},
     "output_type": "execute_result"
    }
   ],
   "source": [
    "# Generate mbtiles\n",
    "mbtileGeneration(input_file, output_file)"
   ]
  },
  {
   "cell_type": "code",
   "execution_count": 49,
   "metadata": {},
   "outputs": [
    {
     "name": "stdout",
     "output_type": "stream",
     "text": [
      "upload: data/protectedseas/processed/tiles/protectedseas_tiles.mbtiles to s3://tilestream-tilesets-production/49/_pending/wp5zt2tnhpm1zdx09zzczs1mc/skytruth\n"
     ]
    },
    {
     "name": "stderr",
     "output_type": "stream",
     "text": [
      "Linking tileset to Mapbox: 100%|███████████████████████████████████████████████████████████████████████████████████████████████████████████████████████████████████| 100/100 [02:35<00:00,  1.55s/it]\n"
     ]
    },
    {
     "data": {
      "text/plain": [
       "True"
      ]
     },
     "execution_count": 49,
     "metadata": {},
     "output_type": "execute_result"
    }
   ],
   "source": [
    "uploadToMapbox(\n",
    "    output_file,\n",
    "    \"protected_seas\",\n",
    "    mysettings.MAPBOX_USER,\n",
    "    mysettings.MAPBOX_TOKEN,\n",
    ")"
   ]
  },
  {
   "cell_type": "markdown",
   "metadata": {},
   "source": [
    "### Terrestrial habitats"
   ]
  },
  {
   "cell_type": "code",
   "execution_count": 3,
   "metadata": {},
   "outputs": [],
   "source": [
    "pipe = \"terrestrial-habitats\"\n",
    "collection_name = \"terrestrial_habitats\"\n",
    "\n",
    "pipe_dir = FileConventionHandler(pipe)\n",
    "input_file = pipe_dir.get_processed_step_path(prev_step).joinpath(\"jung_etal_1km_reclassed.tif\")\n",
    "output_file = pipe_dir.get_processed_step_path(current_step).joinpath(\"terrestrial_habitats_tiles.mbtiles\")\n",
    "\n",
    "# Download the protected seas layers from the bucket && unzip it\n",
    "writeReadGCP(\n",
    "    credentials=mysettings.GCS_KEYFILE_JSON,\n",
    "    bucket_name=mysettings.GCS_BUCKET,\n",
    "    blob_name=\"terrestrial/jung_etal_2020/jung_etal_1km_reclassed.tif\",\n",
    "    file=input_file,\n",
    "    operation=\"r\",\n",
    ")"
   ]
  },
  {
   "cell_type": "code",
   "execution_count": 4,
   "metadata": {},
   "outputs": [
    {
     "name": "stdout",
     "output_type": "stream",
     "text": [
      "Styled raster saved at: /home/sofia/dev/skytruth-30x30/data/data/terrestrial-habitats/processed/preprocess/jung_etal_1km_styled.tif\n"
     ]
    }
   ],
   "source": [
    "# Define the land cover classes and their corresponding colors (as hex strings)\n",
    "land_cover_classes = {\n",
    "    1: \"#01550E\",          # Forest\n",
    "    2: \"#ffe399\",          # Savanna\n",
    "    3: \"#C6FF53\",          # Shrubland\n",
    "    4: \"#1D931D\",          # Grassland\n",
    "    5: \"#5BB5FF\",          # Wetlands/open water\n",
    "    6: \"#79685a\",          # Rocky/mountains\n",
    "    7: \"#FBF8D6\",          # Desert\n",
    "    8: \"#cecece\",          # Artificial\n",
    "    255: \"#D3D3D3\"         # Other\n",
    "}\n",
    "\n",
    "with rio.open(input_file) as src:\n",
    "    band = src.read(1)  # Read the first band\n",
    "    profile = src.profile  # Get the metadata\n",
    "    crs = src.crs  # Get the CRS from the original file\n",
    "\n",
    "# Replace 255 values with NaN\n",
    "band = band.astype(np.float32)  # Change dtype to float32 to allow NaN values\n",
    "band[band == 255] = np.nan  # Set 255 values to NaN\n",
    "\n",
    "# Create the color map\n",
    "color_map = create_color_map(land_cover_classes, value_to_rgb_func=hex_to_rgb)\n",
    "\n",
    "# Create a colored image based on the band values, setting NaNs to a transparent color (for visualization only)\n",
    "colored_image = np.zeros((band.shape[0], band.shape[1], 3), dtype=np.uint8)\n",
    "\n",
    "for class_value, hex_color in land_cover_classes.items():\n",
    "    if class_value != 255:  # Exclude the 'Other' category\n",
    "        rgb_color = hex_to_rgb(hex_color)\n",
    "        colored_image[band == class_value] = rgb_color\n",
    "\n",
    "# Save the styled raster as a new GeoTIFF\n",
    "styled_raster_path = pipe_dir.get_processed_step_path(prev_step).joinpath(\"jung_etal_1km_styled.tif\")  # Update with desired output path\n",
    "\n",
    "# Update profile for the RGB image\n",
    "profile.update({\n",
    "    'count': 3,  # Number of bands for RGB\n",
    "    'dtype': 'uint8',  # Change to uint8 for RGB\n",
    "    'driver': 'GTiff',  # Format\n",
    "    'crs': crs,  # Add the CRS to the profile\n",
    "    'compress': 'deflate',  # Apply Deflate compression\n",
    "    'predictor': 2  # Use horizontal differencing predictor\n",
    "})\n",
    "\n",
    "with rio.open(styled_raster_path, 'w', **profile) as dst:\n",
    "    # Write each color channel to a separate band\n",
    "    dst.write(colored_image[:, :, 0], 1)  # Red channel\n",
    "    dst.write(colored_image[:, :, 1], 2)  # Green channel\n",
    "    dst.write(colored_image[:, :, 2], 3)  # Blue channel\n",
    "\n",
    "    # Set color interpretation for each band\n",
    "    dst.colorinterp = [ColorInterp.red, ColorInterp.green, ColorInterp.blue]\n",
    "\n",
    "print(f\"Styled raster saved at: {styled_raster_path}\")"
   ]
  },
  {
   "cell_type": "code",
   "execution_count": 74,
   "metadata": {},
   "outputs": [],
   "source": [
    "remote_path = 'vizzuality_processed_data/strapi_tables/habitats.tif'\n",
    "writeReadGCP(\n",
    "    credentials=mysettings.GCS_KEYFILE_JSON,\n",
    "    bucket_name=mysettings.GCS_BUCKET,\n",
    "    blob_name=remote_path,\n",
    "    file=styled_raster_path,\n",
    "    operation=\"w\",\n",
    ")"
   ]
  },
  {
   "cell_type": "code",
   "execution_count": 75,
   "metadata": {},
   "outputs": [
    {
     "name": "stdout",
     "output_type": "stream",
     "text": [
      "upload: data/terrestrial-habitats/processed/preprocess/jung_etal_1km_styled.tif to s3://tilestream-tilesets-production/e1/_pending/hnc0pcuglmm184g2tzay632mc/skytruth\n"
     ]
    },
    {
     "name": "stderr",
     "output_type": "stream",
     "text": [
      "Linking tileset to Mapbox: 100%|███████████████████████████████████████████████████████████████████████████████████████████████████| 100/100 [02:14<00:00,  1.35s/it]\n"
     ]
    },
    {
     "data": {
      "text/plain": [
       "True"
      ]
     },
     "execution_count": 75,
     "metadata": {},
     "output_type": "execute_result"
    }
   ],
   "source": [
    "uploadToMapbox(\n",
    "    styled_raster_path,\n",
    "    \"terrestrial_habitats\",\n",
    "    mysettings.MAPBOX_USER,\n",
    "    mysettings.MAPBOX_TOKEN,\n",
    ")"
   ]
  },
  {
   "cell_type": "markdown",
   "metadata": {},
   "source": [
    "### Terrestrial recommendations"
   ]
  },
  {
   "cell_type": "code",
   "execution_count": 86,
   "metadata": {},
   "outputs": [],
   "source": [
    "pipe = \"terrestrial-recommendations\"\n",
    "collection_name = \"terrestrial_recommendations\"\n",
    "\n",
    "pipe_dir = FileConventionHandler(pipe)\n",
    "input_file = pipe_dir.get_processed_step_path(current_step).joinpath(\"terrestrial-jung.mbtiles\")\n",
    "\n",
    "# Download the protected seas layers from the bucket && unzip it\n",
    "writeReadGCP(\n",
    "    credentials=mysettings.GCS_KEYFILE_JSON,\n",
    "    bucket_name=mysettings.GCS_BUCKET,\n",
    "    blob_name=\"terrestrial/jung_etal_2021/terrestial-jung.mbtiles\",\n",
    "    file=input_file,\n",
    "    operation=\"r\",\n",
    ")"
   ]
  },
  {
   "cell_type": "code",
   "execution_count": 87,
   "metadata": {},
   "outputs": [
    {
     "name": "stdout",
     "output_type": "stream",
     "text": [
      "upload: data/terrestrial-recommendations/processed/tiles/terrestrial-jung.mbtiles to s3://tilestream-tilesets-production/3a/_pending/h47pn0cfeow1b0l2gw41502mc/skytruth\n"
     ]
    },
    {
     "name": "stderr",
     "output_type": "stream",
     "text": [
      "Linking tileset to Mapbox: 100%|██████████████████████████████████████████████████████████████████████████████████████████████████████████████████████████████| 100/100 [00:20<00:00,  4.81it/s]\n"
     ]
    },
    {
     "data": {
      "text/plain": [
       "True"
      ]
     },
     "execution_count": 87,
     "metadata": {},
     "output_type": "execute_result"
    }
   ],
   "source": [
    "uploadToMapbox(\n",
    "    input_file,\n",
    "    \"terrestrial_recommendations\",\n",
    "    mysettings.MAPBOX_USER,\n",
    "    mysettings.MAPBOX_TOKEN,\n",
    ")"
   ]
  },
  {
   "cell_type": "markdown",
   "metadata": {},
   "source": [
    "### Habitat layers"
   ]
  },
  {
   "cell_type": "code",
   "execution_count": null,
   "metadata": {},
   "outputs": [],
   "source": [
    "# TODO: Add all the habitats layer processing\n",
    "habitat = mysettings.DATA_DIR.joinpath(\"habitat_intermediate\", \"layer\").resolve()"
   ]
  },
  {
   "cell_type": "markdown",
   "metadata": {},
   "source": [
    "#### Warm water corals"
   ]
  },
  {
   "cell_type": "code",
   "execution_count": null,
   "metadata": {},
   "outputs": [],
   "source": [
    "warm_water_corals = habitat.joinpath(\"warm_water_corals.mbtiles\").resolve()"
   ]
  },
  {
   "cell_type": "code",
   "execution_count": null,
   "metadata": {},
   "outputs": [],
   "source": [
    "uploadToMapbox(\n",
    "    warm_water_corals,\n",
    "    \"warm_water_corals\",\n",
    "    mysettings.MAPBOX_USER,\n",
    "    mysettings.MAPBOX_TOKEN,\n",
    ")"
   ]
  },
  {
   "cell_type": "markdown",
   "metadata": {},
   "source": [
    "### Contextual layers"
   ]
  },
  {
   "cell_type": "code",
   "execution_count": null,
   "metadata": {},
   "outputs": [],
   "source": [
    "# Todo: we need to add the contextual layers upload here"
   ]
  }
 ],
 "metadata": {
  "kernelspec": {
   "display_name": "Python 3 (ipykernel)",
   "language": "python",
   "name": "python3"
  },
  "language_info": {
   "codemirror_mode": {
    "name": "ipython",
    "version": 3
   },
   "file_extension": ".py",
   "mimetype": "text/x-python",
   "name": "python",
   "nbconvert_exporter": "python",
   "pygments_lexer": "ipython3",
   "version": "3.12.5"
  }
 },
 "nbformat": 4,
 "nbformat_minor": 2
}
